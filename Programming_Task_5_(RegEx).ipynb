{
  "nbformat": 4,
  "nbformat_minor": 0,
  "metadata": {
    "colab": {
      "provenance": []
    },
    "kernelspec": {
      "name": "python3",
      "display_name": "Python 3"
    },
    "language_info": {
      "name": "python"
    }
  },
  "cells": [
    {
      "cell_type": "code",
      "execution_count": null,
      "metadata": {
        "colab": {
          "base_uri": "https://localhost:8080/"
        },
        "id": "odpkBbQJVkMn",
        "outputId": "f2ca3e7b-f6f8-479c-c3cd-5eb636fe0811"
      },
      "outputs": [
        {
          "output_type": "stream",
          "name": "stdout",
          "text": [
            "100,000,000.000\n",
            "100\n",
            "000\n",
            "000\n",
            "000\n"
          ]
        }
      ],
      "source": [
        "#Re.split()\n",
        "\n",
        "regex_pattern = r'[.,]+' \t# Do not delete 'r'.\n",
        "\n",
        "import re\n",
        "print(\"\\n\".join(re.split(regex_pattern, input())))"
      ]
    },
    {
      "cell_type": "code",
      "source": [
        "#Group(),Groups() &Groupdict()\n",
        "\n",
        "# Enter your code here. Read input from STDIN. Print output to STDOUT\n",
        "\n",
        "import re\n",
        "\n",
        "m = re.search(r'([a-zA-Z0-9])\\1', input().strip())\n",
        "print(m.group(1) if m else -1)"
      ],
      "metadata": {
        "colab": {
          "base_uri": "https://localhost:8080/"
        },
        "id": "VNy6AkoJVwHQ",
        "outputId": "ac9f7ee9-57bc-4df6-aa8c-0aa41d583965"
      },
      "execution_count": null,
      "outputs": [
        {
          "output_type": "stream",
          "name": "stdout",
          "text": [
            "..1237268161711123932111\n",
            "1\n"
          ]
        }
      ]
    },
    {
      "cell_type": "code",
      "source": [
        "#Re.findall() & Re.finditer()\n",
        "\n",
        "# Enter your code here. Read input from STDIN. Print output to STDOUT\n",
        "\n",
        "import re\n",
        "vowels = 'aeiou'\n",
        "consonants = 'qwrtypsdfghjklzxcvbnm'\n",
        "match = re.findall(r'(?<=[' + consonants + '])([' + vowels + ']{2,})(?=[' + consonants + '])', input(), flags=re.I)\n",
        "print('\\n'.join(match or ['-1']))"
      ],
      "metadata": {
        "id": "9lhM_sw8XGze",
        "colab": {
          "base_uri": "https://localhost:8080/"
        },
        "outputId": "1a629540-9f7a-4c0a-e641-611863123ba4"
      },
      "execution_count": null,
      "outputs": [
        {
          "output_type": "stream",
          "name": "stdout",
          "text": [
            "rabcdeefgyYhFjkIoomnpOeorteeeeet\n",
            "ee\n",
            "Ioo\n",
            "Oeo\n",
            "eeeee\n"
          ]
        }
      ]
    },
    {
      "cell_type": "code",
      "source": [
        "#Re.start() & Re.end()\n",
        "\n",
        "# Enter your code here. Read input from STDIN. Print output to STDOUT\n",
        "\n",
        "import re\n",
        "string = input()\n",
        "substring = input()\n",
        "pattern = re.compile(substring)\n",
        "match = pattern.search(string)\n",
        "if not match: print('(-1, -1)')\n",
        "while match:\n",
        "    print('({0}, {1})'.format(match.start(), match.end() - 1))\n",
        "    match = pattern.search(string, match.start() + 1)\n"
      ],
      "metadata": {
        "id": "jdzWlJ7Mw2ne"
      },
      "execution_count": null,
      "outputs": []
    },
    {
      "cell_type": "code",
      "source": [
        "#Regex Substitution\n",
        "\n",
        "# Enter your code here. Read input from STDIN. Print output to STDOUT\n",
        "\n",
        "import re\n",
        "for _ in range(int(input())):\n",
        "    print(re.sub(r'(?<= )(&&|\\|\\|)(?= )', lambda x: 'and' if x.group() == '&&' else 'or', input()))"
      ],
      "metadata": {
        "id": "lgjk0cOyGOTr"
      },
      "execution_count": null,
      "outputs": []
    },
    {
      "cell_type": "code",
      "source": [
        "#Validating roman numbers\n",
        "\n",
        "regex_pattern = r'M{0,3}(C[MD]|D?C{0,3})(X[CL]|L?X{0,3})(I[VX]|V?I{0,3})$'    # Do not delete 'r'.\n",
        "\n",
        "import re\n",
        "print(str(bool(re.match(regex_pattern, input()))))"
      ],
      "metadata": {
        "colab": {
          "base_uri": "https://localhost:8080/"
        },
        "id": "d-BIiBeSHCVZ",
        "outputId": "ff79dfc4-9303-41d8-dc1f-521111112727"
      },
      "execution_count": 1,
      "outputs": [
        {
          "output_type": "stream",
          "name": "stdout",
          "text": [
            "CDXXI\n",
            "True\n"
          ]
        }
      ]
    },
    {
      "cell_type": "code",
      "source": [
        "#Validating phone numbers\n",
        "\n",
        "# Enter your code here. Read input from STDIN. Print output to STDOUT\n",
        "\n",
        "import re\n",
        "[print('YES' if re.match(r'[789]\\d{9}$', input()) else 'NO') for _ in range(int(input()))]"
      ],
      "metadata": {
        "colab": {
          "base_uri": "https://localhost:8080/"
        },
        "id": "z1rRujDjHpge",
        "outputId": "d879e048-3602-4e53-fe07-32f712dcfd89"
      },
      "execution_count": 2,
      "outputs": [
        {
          "output_type": "stream",
          "name": "stdout",
          "text": [
            "1\n",
            "9597028220\n",
            "YES\n"
          ]
        },
        {
          "output_type": "execute_result",
          "data": {
            "text/plain": [
              "[None]"
            ]
          },
          "metadata": {},
          "execution_count": 2
        }
      ]
    },
    {
      "cell_type": "code",
      "source": [
        "#Validating and Parsing Email Addresses\n",
        "\n",
        "# Enter your code here. Read input from STDIN. Print output to STDOUT\n",
        "\n",
        "import re\n",
        "pattern = r'^<[A-Za-z](\\w|-|\\.|_)+@[A-Za-z]+\\.[A-Za-z]{1,3}>$'\n",
        "for _ in range(int(input())):\n",
        "    name, email = input().split(' ')\n",
        "    if re.match(pattern, email):\n",
        "        print(name, email)\n",
        "      "
      ],
      "metadata": {
        "colab": {
          "base_uri": "https://localhost:8080/"
        },
        "id": "vrIUNkW8IIfu",
        "outputId": "2a305caf-1d0b-485b-c3e3-fc8a9e6904c7"
      },
      "execution_count": 5,
      "outputs": [
        {
          "output_type": "stream",
          "name": "stdout",
          "text": [
            "1\n",
            "DEXTER <dexter@hotmail.com>\n",
            "DEXTER <dexter@hotmail.com>\n"
          ]
        }
      ]
    },
    {
      "cell_type": "code",
      "source": [
        "#Hex Color Code\n",
        "\n",
        "import re\n",
        "for _ in range(int(input())):\n",
        "    matches = re.findall(r':?.(#[0-9a-fA-F]{6}|#[0-9a-fA-F]{3})', input())\n",
        "    if matches:\n",
        "        print(*matches, sep='\\n')"
      ],
      "metadata": {
        "id": "1rrsKQxFI8hW"
      },
      "execution_count": null,
      "outputs": []
    },
    {
      "cell_type": "code",
      "source": [
        "#HTML Parser - Part 1\n",
        "\n",
        "from html.parser import HTMLParser\n",
        "class MyHTMLParser(HTMLParser):\n",
        "    def handle_starttag(self, tag, attrs):\n",
        "        print ('Start :', tag)\n",
        "        for ele in attrs:\n",
        "            print ('->', ele[0], '>', ele[1])\n",
        "    def handle_endtag(self, tag):\n",
        "        print ('End   :', tag)\n",
        "    def handle_startendtag(self, tag, attrs):\n",
        "        print ('Empty :', tag)\n",
        "        for ele in attrs:\n",
        "            print ('->', ele[0], '>', ele[1])\n",
        "parser = MyHTMLParser()\n",
        "for _ in range(int(input())):\n",
        "    parser.feed(input())"
      ],
      "metadata": {
        "id": "qbbKy_NCKF7a"
      },
      "execution_count": null,
      "outputs": []
    },
    {
      "cell_type": "code",
      "source": [
        "#HTML Parser - Part 2\n",
        "\n",
        "from html.parser import HTMLParser\n",
        "\n",
        "class MyHTMLParser(HTMLParser):\n",
        "    def handle_comment(self, comment):\n",
        "        if '\\n' in comment:\n",
        "            print('>>> Multi-line Comment')\n",
        "        else:\n",
        "            print('>>> Single-line Comment')\n",
        "\n",
        "        print(comment)\n",
        "\n",
        "    def handle_data(self, data):\n",
        "        if data == '\\n': return\n",
        "        print('>>> Data')\n",
        "        print(data)    \n",
        "html = \"\"       \n",
        "for i in range(int(input())):\n",
        "    html += input().rstrip()\n",
        "    html += '\\n'\n",
        "    \n",
        "parser = MyHTMLParser()\n",
        "parser.feed(html)\n",
        "parser.close()"
      ],
      "metadata": {
        "id": "xt7y_DhSKG3h"
      },
      "execution_count": null,
      "outputs": []
    },
    {
      "cell_type": "code",
      "source": [
        "#Detect HTML Tags, Attributes and Attribute Values\n",
        "\n",
        "# Enter your code here. Read input from STDIN. Print output to STDOUT\n",
        "from html.parser import HTMLParser\n",
        "\n",
        "class MyHTMLParser(HTMLParser):\n",
        "    def handle_starttag(self, tag, attrs):\n",
        "        print(tag)\n",
        "        [print('-> {} > {}'.format(*attr)) for attr in attrs]\n",
        "html = '\\n'.join([input() for _ in range(int(input()))])\n",
        "parser = MyHTMLParser()\n",
        "parser.feed(html)\n",
        "parser.close()"
      ],
      "metadata": {
        "id": "90KboO4UK0JS"
      },
      "execution_count": null,
      "outputs": []
    },
    {
      "cell_type": "code",
      "source": [
        "#Validating UID\n",
        "\n",
        "# Enter your code here. Read input from STDIN. Print output to STDOUT\n",
        "import re\n",
        "\n",
        "for _ in range(int(input())):\n",
        "    u = ''.join(sorted(input()))\n",
        "    try:\n",
        "        assert re.search(r'[A-Z]{2}', u)\n",
        "        assert re.search(r'\\d\\d\\d', u)\n",
        "        assert not re.search(r'[^a-zA-Z0-9]', u)\n",
        "        assert not re.search(r'(.)\\1', u)\n",
        "        assert len(u) == 10\n",
        "    except:\n",
        "        print('Invalid')\n",
        "    else:\n",
        "        print('Valid')"
      ],
      "metadata": {
        "colab": {
          "base_uri": "https://localhost:8080/"
        },
        "id": "7h8txjI8LJcL",
        "outputId": "8a29f248-bda0-4586-8568-4bbb30fd5ec7"
      },
      "execution_count": 11,
      "outputs": [
        {
          "output_type": "stream",
          "name": "stdout",
          "text": [
            "2\n",
            "B1CD102354\n",
            "Invalid\n",
            "B1CDEF2354\n",
            "Valid\n"
          ]
        }
      ]
    },
    {
      "cell_type": "code",
      "source": [
        "#Validating credit numbers\n",
        "\n",
        "import re\n",
        "n = int(input())\n",
        "for t in range(n):\n",
        "    credit = input().strip()\n",
        "    credit_removed_hiphen = credit.replace('-','')\n",
        "    valid = True\n",
        "    length_16 = bool(re.match(r'^[4-6]\\d{15}$',credit))\n",
        "    length_19 = bool(re.match(r'^[4-6]\\d{3}-\\d{4}-\\d{4}-\\d{4}$',credit))    \n",
        "    consecutive = bool(re.findall(r'(?=(\\d)\\1\\1\\1)',credit_removed_hiphen))\n",
        "    if length_16 == True or length_19 == True:\n",
        "        if consecutive == True:\n",
        "            valid=False\n",
        "    else:\n",
        "        valid = False       \n",
        "    if valid == True:\n",
        "        print('Valid')\n",
        "    else:\n",
        "        print('Invalid')"
      ],
      "metadata": {
        "colab": {
          "base_uri": "https://localhost:8080/"
        },
        "id": "O9iFrAXkLsQD",
        "outputId": "28bf78bb-800c-4c66-c3d5-4475b059e854"
      },
      "execution_count": 12,
      "outputs": [
        {
          "output_type": "stream",
          "name": "stdout",
          "text": [
            "2\n",
            "4123456789123456\n",
            "Valid\n",
            "5133-3367-8912-3456\n",
            "Invalid\n"
          ]
        }
      ]
    },
    {
      "cell_type": "code",
      "source": [
        "#Validating postal codes \n",
        "\n",
        "regex_integer_in_range = r\"^[1-9][\\d]{5}$\"    # Do not delete 'r'.\n",
        "regex_alternating_repetitive_digit_pair = r\"(\\d)(?=\\d\\1)\"    # Do not delete 'r'.\n",
        "\n",
        "\n",
        "import re\n",
        "P = input()\n",
        "\n",
        "print (bool(re.match(regex_integer_in_range, P)) \n",
        "and len(re.findall(regex_alternating_repetitive_digit_pair, P)) < 2)"
      ],
      "metadata": {
        "colab": {
          "base_uri": "https://localhost:8080/"
        },
        "id": "0m2Y-2MJMcto",
        "outputId": "050bc9a5-b99c-4fbd-b6d5-287821afe947"
      },
      "execution_count": 13,
      "outputs": [
        {
          "output_type": "stream",
          "name": "stdout",
          "text": [
            "641107\n",
            "True\n"
          ]
        }
      ]
    },
    {
      "cell_type": "code",
      "source": [
        "#Matrix Script\n",
        "\n",
        "import re\n",
        "n, m = map(int,input().split())\n",
        "character_ar = [''] * (n*m)\n",
        "for i in range(n):\n",
        "    line = input()\n",
        "    for j in range(m):\n",
        "        character_ar[i+(j*n)]=line[j]\n",
        "decoded_str = ''.join(character_ar)\n",
        "final_decoded_str = re.sub(r'(?<=[A-Za-z0-9])([ !@#$%&]+)(?=[A-Za-z0-9])',' ',decoded_str)\n",
        "print(final_decoded_str) "
      ],
      "metadata": {
        "id": "UEZv3vVnNRyZ"
      },
      "execution_count": null,
      "outputs": []
    },
    {
      "cell_type": "code",
      "source": [
        "#Detect foloating number\n",
        "\n",
        "# Enter your code here. Read input from STDIN. Print output to STDOUT\n",
        "from re import match, compile\n",
        "\n",
        "pattern = compile('^[-+]?[0-9]*\\.[0-9]+$')\n",
        "for _ in range(int(input())):\n",
        "    print(bool(pattern.match(input())))"
      ],
      "metadata": {
        "colab": {
          "base_uri": "https://localhost:8080/"
        },
        "id": "xDEov3sqNok4",
        "outputId": "849bcab0-a357-4144-9ce7-12299638fbdd"
      },
      "execution_count": 15,
      "outputs": [
        {
          "output_type": "stream",
          "name": "stdout",
          "text": [
            "2\n",
            "4.0\n",
            "True\n",
            "4\n",
            "False\n"
          ]
        }
      ]
    }
  ]
}
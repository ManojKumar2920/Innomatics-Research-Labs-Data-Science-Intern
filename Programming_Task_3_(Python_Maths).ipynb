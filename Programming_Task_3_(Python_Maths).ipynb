{
  "nbformat": 4,
  "nbformat_minor": 0,
  "metadata": {
    "colab": {
      "provenance": []
    },
    "kernelspec": {
      "name": "python3",
      "display_name": "Python 3"
    },
    "language_info": {
      "name": "python"
    }
  },
  "cells": [
    {
      "cell_type": "code",
      "execution_count": 1,
      "metadata": {
        "colab": {
          "base_uri": "https://localhost:8080/"
        },
        "id": "HI7TJcBzL9m9",
        "outputId": "b7626f52-e690-4c34-b9e9-645aa7f6f5de"
      },
      "outputs": [
        {
          "output_type": "stream",
          "name": "stdout",
          "text": [
            "10\n",
            "10\n",
            "45°\n"
          ]
        }
      ],
      "source": [
        "#Find Angle MBC\n",
        "\n",
        "# Enter your code here. Read input from STDIN. Print output to STDOUT\n",
        "import math\n",
        "\n",
        "ab=int(input())\n",
        "bc=int(input())\n",
        "\n",
        "ca=math.hypot(ab,bc)\n",
        "mc=ca/2\n",
        "bca=math.asin(1*ab/ca)\n",
        "bm=math.sqrt((bc**2+mc**2)-(2*bc*mc*math.cos(bca)))\n",
        "mbc=math.asin(math.sin(bca)*mc/bm)\n",
        "\n",
        "print(int(round(math.degrees(mbc),0)),'\\u00B0',sep='')"
      ]
    },
    {
      "cell_type": "code",
      "source": [
        "#Triangle Quest 2\n",
        "\n",
        "\n",
        "for i in range(1,int(input())+1): #More than 2 lines will result in 0 score. Do not leave a blank line also\n",
        "    print(((10**i)//9)**2)"
      ],
      "metadata": {
        "colab": {
          "base_uri": "https://localhost:8080/"
        },
        "id": "A4ajIeOpMmwf",
        "outputId": "7524f12e-c0f3-469f-d742-32803c7dcc41"
      },
      "execution_count": 2,
      "outputs": [
        {
          "output_type": "stream",
          "name": "stdout",
          "text": [
            "5\n",
            "1\n",
            "121\n",
            "12321\n",
            "1234321\n",
            "123454321\n"
          ]
        }
      ]
    },
    {
      "cell_type": "code",
      "source": [
        "#Mod Divmod\n",
        "\n",
        "# Enter your code here. Read input from STDIN. Print output to STDOUT\n",
        "\n",
        "a = int(input())\n",
        "b = int(input())\n",
        "\n",
        "print(a//b)\n",
        "print(a%b)\n",
        "print(divmod(a,b))"
      ],
      "metadata": {
        "colab": {
          "base_uri": "https://localhost:8080/"
        },
        "id": "86qOeLKuM9Qp",
        "outputId": "40ed9ef1-d37d-4e3d-e688-6b03643442d9"
      },
      "execution_count": 3,
      "outputs": [
        {
          "output_type": "stream",
          "name": "stdout",
          "text": [
            "177\n",
            "10\n",
            "17\n",
            "7\n",
            "(17, 7)\n"
          ]
        }
      ]
    },
    {
      "cell_type": "code",
      "source": [
        "#Power-Mod Power\n",
        "\n",
        "a=int(input())\n",
        "b=int(input())\n",
        "m=int(input())\n",
        "\n",
        "pow_of_ab=pow(a,b)\n",
        "pow_of_abm=pow(a,b,m)\n",
        "\n",
        "print(pow_of_ab)\n",
        "print(pow_of_abm)"
      ],
      "metadata": {
        "colab": {
          "base_uri": "https://localhost:8080/"
        },
        "id": "-vtQFSpSN_jF",
        "outputId": "0c516c02-dfed-4f28-94ca-b5abfb4b6e02"
      },
      "execution_count": 5,
      "outputs": [
        {
          "output_type": "stream",
          "name": "stdout",
          "text": [
            "3\n",
            "4\n",
            "5\n",
            "81\n",
            "1\n"
          ]
        }
      ]
    },
    {
      "cell_type": "code",
      "source": [
        "#Integers come in all sizes\n",
        "\n",
        "# Enter your code here. Read input from STDIN. Print output to STDOUT\n",
        "\n",
        "a=int(input())\n",
        "b=int(input())\n",
        "c=int(input())\n",
        "d=int(input())\n",
        "\n",
        "print((a**b)+(c**d))"
      ],
      "metadata": {
        "colab": {
          "base_uri": "https://localhost:8080/"
        },
        "id": "9wd-3i1bPKf3",
        "outputId": "276571d7-bd18-4c58-bfe4-51282c3ccb69"
      },
      "execution_count": 11,
      "outputs": [
        {
          "output_type": "stream",
          "name": "stdout",
          "text": [
            "9\n",
            "29\n",
            "7\n",
            "21\n",
            "4710128697804790699004887696\n",
            "9\n",
            "29\n",
            "7\n",
            "21\n",
            "4710128697804790699004887696\n"
          ]
        }
      ]
    },
    {
      "cell_type": "code",
      "source": [
        "#Triangle Quest\n",
        "\n",
        "for i in range(1,int(input())): #More than 2 lines will result in 0 score. Do not leave a blank line also\n",
        "    print((10**(i)//9)*i)"
      ],
      "metadata": {
        "colab": {
          "base_uri": "https://localhost:8080/"
        },
        "id": "cMQd2ZAxNvIY",
        "outputId": "c4d8eeb4-64e4-47af-a0bc-dad5809d3133"
      },
      "execution_count": 10,
      "outputs": [
        {
          "output_type": "stream",
          "name": "stdout",
          "text": [
            "5\n",
            "1\n",
            "22\n",
            "333\n",
            "4444\n"
          ]
        }
      ]
    }
  ]
}
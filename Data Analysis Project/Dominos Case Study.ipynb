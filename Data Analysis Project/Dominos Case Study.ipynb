{
 "cells": [
  {
   "cell_type": "markdown",
   "id": "9ecd052d-39f0-4b01-a971-32890c245800",
   "metadata": {},
   "source": [
    "## Dominos Case Study ##\n",
    "\n",
    "### Code Author - Manoj Kumar ###\n",
    "\n",
    "Innomatics Research labs Data Science Internship 2023 "
   ]
  },
  {
   "cell_type": "markdown",
   "id": "9e98d7b1-b4f9-460c-9a95-33d2c0e76bd5",
   "metadata": {},
   "source": [
    "### Problem Statement 🍕 ###\n",
    "\n",
    "Kanav has started his own Pizza Store by getting the Franchise from the popular Pizza brand Diminos. \n",
    "Diminos promises to deliver the pizza order within 31 minutes from the time the order was placed. Otherwise the pizza will be free for the customer.\n",
    "In order to increase the revenue and profits Kanav is running the store 24 * 7.\n",
    "Recently Diminos gave a notice to Kanav that they will be measuring their stores' performance by looking at the metric - which is 95th Percentile on Order Delivery time should be less than 31 mins.\n",
    "Kanav is worried that he might lose the franchise if he is not able to meet the metric and wants your help in order to understand his store's performance so that he can take some actions to prevent his business. \n"
   ]
  },
  {
   "cell_type": "markdown",
   "id": "06e667e6-a0fc-4d5a-94c6-a379ef6d2dde",
   "metadata": {},
   "source": [
    "### Import required modules ###"
   ]
  },
  {
   "cell_type": "markdown",
   "id": "ab0976de-bee6-488f-8173-1eb24e3572ee",
   "metadata": {},
   "source": [
    "Don't import unnecessary modules "
   ]
  },
  {
   "cell_type": "code",
   "execution_count": 1,
   "id": "ac44cfb8-1cec-4e0b-8bdd-21b944538f04",
   "metadata": {
    "tags": []
   },
   "outputs": [],
   "source": [
    "import numpy as np\n",
    "import pandas as pd"
   ]
  },
  {
   "cell_type": "code",
   "execution_count": 2,
   "id": "dcb70ce4-4d8a-4f53-baac-12fb167f37d8",
   "metadata": {
    "tags": []
   },
   "outputs": [
    {
     "data": {
      "text/html": [
       "<div>\n",
       "<style scoped>\n",
       "    .dataframe tbody tr th:only-of-type {\n",
       "        vertical-align: middle;\n",
       "    }\n",
       "\n",
       "    .dataframe tbody tr th {\n",
       "        vertical-align: top;\n",
       "    }\n",
       "\n",
       "    .dataframe thead th {\n",
       "        text-align: right;\n",
       "    }\n",
       "</style>\n",
       "<table border=\"1\" class=\"dataframe\">\n",
       "  <thead>\n",
       "    <tr style=\"text-align: right;\">\n",
       "      <th></th>\n",
       "      <th>order_id</th>\n",
       "      <th>order_placed_at</th>\n",
       "      <th>order_delivered_at</th>\n",
       "    </tr>\n",
       "  </thead>\n",
       "  <tbody>\n",
       "    <tr>\n",
       "      <th>0</th>\n",
       "      <td>1523111</td>\n",
       "      <td>2023-03-01 00:00:59</td>\n",
       "      <td>2023-03-01 00:18:07.443132</td>\n",
       "    </tr>\n",
       "    <tr>\n",
       "      <th>1</th>\n",
       "      <td>1523112</td>\n",
       "      <td>2023-03-01 00:03:59</td>\n",
       "      <td>2023-03-01 00:19:34.925241</td>\n",
       "    </tr>\n",
       "    <tr>\n",
       "      <th>2</th>\n",
       "      <td>1523113</td>\n",
       "      <td>2023-03-01 00:07:22</td>\n",
       "      <td>2023-03-01 00:22:28.291385</td>\n",
       "    </tr>\n",
       "    <tr>\n",
       "      <th>3</th>\n",
       "      <td>1523114</td>\n",
       "      <td>2023-03-01 00:07:47</td>\n",
       "      <td>2023-03-01 00:46:19.019399</td>\n",
       "    </tr>\n",
       "    <tr>\n",
       "      <th>4</th>\n",
       "      <td>1523115</td>\n",
       "      <td>2023-03-01 00:09:03</td>\n",
       "      <td>2023-03-01 00:25:13.619056</td>\n",
       "    </tr>\n",
       "  </tbody>\n",
       "</table>\n",
       "</div>"
      ],
      "text/plain": [
       "   order_id      order_placed_at          order_delivered_at\n",
       "0   1523111  2023-03-01 00:00:59  2023-03-01 00:18:07.443132\n",
       "1   1523112  2023-03-01 00:03:59  2023-03-01 00:19:34.925241\n",
       "2   1523113  2023-03-01 00:07:22  2023-03-01 00:22:28.291385\n",
       "3   1523114  2023-03-01 00:07:47  2023-03-01 00:46:19.019399\n",
       "4   1523115  2023-03-01 00:09:03  2023-03-01 00:25:13.619056"
      ]
     },
     "execution_count": 2,
     "metadata": {},
     "output_type": "execute_result"
    }
   ],
   "source": [
    "df = pd.read_csv('E:\\Mano@workspace\\Datasets\\diminos_data.csv')\n",
    "df.head()"
   ]
  },
  {
   "cell_type": "code",
   "execution_count": 3,
   "id": "bfbafa72-3a53-450e-9903-01f7d89da638",
   "metadata": {
    "jupyter": {
     "source_hidden": true
    },
    "tags": []
   },
   "outputs": [
    {
     "data": {
      "text/plain": [
       "(15000, 3)"
      ]
     },
     "execution_count": 3,
     "metadata": {},
     "output_type": "execute_result"
    }
   ],
   "source": [
    "df.shape"
   ]
  },
  {
   "cell_type": "code",
   "execution_count": 4,
   "id": "d0aeedd0-9ed9-46db-8555-42c6ec62ef92",
   "metadata": {
    "tags": []
   },
   "outputs": [
    {
     "data": {
      "text/plain": [
       "Index(['order_id', 'order_placed_at', 'order_delivered_at'], dtype='object')"
      ]
     },
     "execution_count": 4,
     "metadata": {},
     "output_type": "execute_result"
    }
   ],
   "source": [
    "df.columns"
   ]
  },
  {
   "cell_type": "code",
   "execution_count": 5,
   "id": "e55faab1-6bc6-45c1-af67-204f59a42fb3",
   "metadata": {
    "tags": []
   },
   "outputs": [
    {
     "name": "stdout",
     "output_type": "stream",
     "text": [
      "<class 'pandas.core.frame.DataFrame'>\n",
      "RangeIndex: 15000 entries, 0 to 14999\n",
      "Data columns (total 3 columns):\n",
      " #   Column              Non-Null Count  Dtype \n",
      "---  ------              --------------  ----- \n",
      " 0   order_id            15000 non-null  int64 \n",
      " 1   order_placed_at     15000 non-null  object\n",
      " 2   order_delivered_at  15000 non-null  object\n",
      "dtypes: int64(1), object(2)\n",
      "memory usage: 351.7+ KB\n"
     ]
    }
   ],
   "source": [
    "df.info()"
   ]
  },
  {
   "cell_type": "markdown",
   "id": "633d3215-29fb-4656-89e0-8be3a56d8ded",
   "metadata": {
    "tags": []
   },
   "source": [
    "### Data cleaning and analysing ### "
   ]
  },
  {
   "cell_type": "code",
   "execution_count": 6,
   "id": "36c469b6-756e-4d52-8b1e-45a2c37c1e78",
   "metadata": {
    "tags": []
   },
   "outputs": [],
   "source": [
    "df['order_placed_at'] = pd.to_datetime(df['order_placed_at'])\n",
    "df['order_delivered_at'] = pd.to_datetime(df['order_delivered_at'])"
   ]
  },
  {
   "cell_type": "code",
   "execution_count": 7,
   "id": "eb4a5f16-30ae-4f66-9ca9-4612116864ff",
   "metadata": {
    "tags": []
   },
   "outputs": [
    {
     "name": "stdout",
     "output_type": "stream",
     "text": [
      "<class 'pandas.core.frame.DataFrame'>\n",
      "RangeIndex: 15000 entries, 0 to 14999\n",
      "Data columns (total 3 columns):\n",
      " #   Column              Non-Null Count  Dtype         \n",
      "---  ------              --------------  -----         \n",
      " 0   order_id            15000 non-null  int64         \n",
      " 1   order_placed_at     15000 non-null  datetime64[ns]\n",
      " 2   order_delivered_at  15000 non-null  datetime64[ns]\n",
      "dtypes: datetime64[ns](2), int64(1)\n",
      "memory usage: 351.7 KB\n"
     ]
    }
   ],
   "source": [
    "df.info()"
   ]
  },
  {
   "cell_type": "code",
   "execution_count": 8,
   "id": "3db8bcb0-0a0e-4741-b27a-03c12831849a",
   "metadata": {
    "tags": []
   },
   "outputs": [
    {
     "data": {
      "text/plain": [
       "array([ 1,  2,  3,  4,  5,  6,  7,  8,  9, 10, 11, 12, 13, 14, 15, 16, 17,\n",
       "       18, 19, 20, 21, 22, 23, 24, 25, 26, 27], dtype=int64)"
      ]
     },
     "execution_count": 8,
     "metadata": {},
     "output_type": "execute_result"
    }
   ],
   "source": [
    "order_date = df['order_placed_at'].dt.day\n",
    "order_date.unique()"
   ]
  },
  {
   "cell_type": "code",
   "execution_count": 9,
   "id": "cb7ab18e-3d71-41cc-9030-37c1524defc5",
   "metadata": {
    "tags": []
   },
   "outputs": [
    {
     "data": {
      "text/plain": [
       "array(['Wednesday', 'Thursday', 'Friday', 'Saturday', 'Sunday', 'Monday',\n",
       "       'Tuesday'], dtype=object)"
      ]
     },
     "execution_count": 9,
     "metadata": {},
     "output_type": "execute_result"
    }
   ],
   "source": [
    "order_day = df['order_placed_at'].dt.day_name()\n",
    "order_day.unique()"
   ]
  },
  {
   "cell_type": "code",
   "execution_count": 10,
   "id": "1171dba4-d5f4-4d86-9b52-077f35069861",
   "metadata": {
    "tags": []
   },
   "outputs": [],
   "source": [
    "df['order_date'] = order_date\n",
    "df['order_day'] = order_day"
   ]
  },
  {
   "cell_type": "code",
   "execution_count": 11,
   "id": "4dfa876b-a0e7-4c0e-bb7d-7200b0a96b9c",
   "metadata": {
    "tags": []
   },
   "outputs": [
    {
     "data": {
      "text/html": [
       "<div>\n",
       "<style scoped>\n",
       "    .dataframe tbody tr th:only-of-type {\n",
       "        vertical-align: middle;\n",
       "    }\n",
       "\n",
       "    .dataframe tbody tr th {\n",
       "        vertical-align: top;\n",
       "    }\n",
       "\n",
       "    .dataframe thead th {\n",
       "        text-align: right;\n",
       "    }\n",
       "</style>\n",
       "<table border=\"1\" class=\"dataframe\">\n",
       "  <thead>\n",
       "    <tr style=\"text-align: right;\">\n",
       "      <th></th>\n",
       "      <th>order_id</th>\n",
       "      <th>order_placed_at</th>\n",
       "      <th>order_delivered_at</th>\n",
       "      <th>order_date</th>\n",
       "      <th>order_day</th>\n",
       "    </tr>\n",
       "  </thead>\n",
       "  <tbody>\n",
       "    <tr>\n",
       "      <th>0</th>\n",
       "      <td>1523111</td>\n",
       "      <td>2023-03-01 00:00:59</td>\n",
       "      <td>2023-03-01 00:18:07.443132</td>\n",
       "      <td>1</td>\n",
       "      <td>Wednesday</td>\n",
       "    </tr>\n",
       "    <tr>\n",
       "      <th>1</th>\n",
       "      <td>1523112</td>\n",
       "      <td>2023-03-01 00:03:59</td>\n",
       "      <td>2023-03-01 00:19:34.925241</td>\n",
       "      <td>1</td>\n",
       "      <td>Wednesday</td>\n",
       "    </tr>\n",
       "    <tr>\n",
       "      <th>2</th>\n",
       "      <td>1523113</td>\n",
       "      <td>2023-03-01 00:07:22</td>\n",
       "      <td>2023-03-01 00:22:28.291385</td>\n",
       "      <td>1</td>\n",
       "      <td>Wednesday</td>\n",
       "    </tr>\n",
       "    <tr>\n",
       "      <th>3</th>\n",
       "      <td>1523114</td>\n",
       "      <td>2023-03-01 00:07:47</td>\n",
       "      <td>2023-03-01 00:46:19.019399</td>\n",
       "      <td>1</td>\n",
       "      <td>Wednesday</td>\n",
       "    </tr>\n",
       "    <tr>\n",
       "      <th>4</th>\n",
       "      <td>1523115</td>\n",
       "      <td>2023-03-01 00:09:03</td>\n",
       "      <td>2023-03-01 00:25:13.619056</td>\n",
       "      <td>1</td>\n",
       "      <td>Wednesday</td>\n",
       "    </tr>\n",
       "  </tbody>\n",
       "</table>\n",
       "</div>"
      ],
      "text/plain": [
       "   order_id     order_placed_at         order_delivered_at  order_date  \\\n",
       "0   1523111 2023-03-01 00:00:59 2023-03-01 00:18:07.443132           1   \n",
       "1   1523112 2023-03-01 00:03:59 2023-03-01 00:19:34.925241           1   \n",
       "2   1523113 2023-03-01 00:07:22 2023-03-01 00:22:28.291385           1   \n",
       "3   1523114 2023-03-01 00:07:47 2023-03-01 00:46:19.019399           1   \n",
       "4   1523115 2023-03-01 00:09:03 2023-03-01 00:25:13.619056           1   \n",
       "\n",
       "   order_day  \n",
       "0  Wednesday  \n",
       "1  Wednesday  \n",
       "2  Wednesday  \n",
       "3  Wednesday  \n",
       "4  Wednesday  "
      ]
     },
     "execution_count": 11,
     "metadata": {},
     "output_type": "execute_result"
    }
   ],
   "source": [
    "df.head()"
   ]
  },
  {
   "cell_type": "code",
   "execution_count": 12,
   "id": "0190ce5b-dc87-4a9b-aff7-3b7c34ff4588",
   "metadata": {
    "tags": []
   },
   "outputs": [
    {
     "data": {
      "text/html": [
       "<div>\n",
       "<style scoped>\n",
       "    .dataframe tbody tr th:only-of-type {\n",
       "        vertical-align: middle;\n",
       "    }\n",
       "\n",
       "    .dataframe tbody tr th {\n",
       "        vertical-align: top;\n",
       "    }\n",
       "\n",
       "    .dataframe thead th {\n",
       "        text-align: right;\n",
       "    }\n",
       "</style>\n",
       "<table border=\"1\" class=\"dataframe\">\n",
       "  <thead>\n",
       "    <tr style=\"text-align: right;\">\n",
       "      <th></th>\n",
       "      <th>order_id</th>\n",
       "      <th>order_placed_at</th>\n",
       "      <th>order_delivered_at</th>\n",
       "      <th>order_date</th>\n",
       "      <th>order_day</th>\n",
       "    </tr>\n",
       "  </thead>\n",
       "  <tbody>\n",
       "    <tr>\n",
       "      <th>14995</th>\n",
       "      <td>1538106</td>\n",
       "      <td>2023-03-27 23:37:05</td>\n",
       "      <td>2023-03-27 23:52:37.409378</td>\n",
       "      <td>27</td>\n",
       "      <td>Monday</td>\n",
       "    </tr>\n",
       "    <tr>\n",
       "      <th>14996</th>\n",
       "      <td>1538107</td>\n",
       "      <td>2023-03-27 23:47:38</td>\n",
       "      <td>2023-03-28 00:04:22.672912</td>\n",
       "      <td>27</td>\n",
       "      <td>Monday</td>\n",
       "    </tr>\n",
       "    <tr>\n",
       "      <th>14997</th>\n",
       "      <td>1538108</td>\n",
       "      <td>2023-03-27 23:50:16</td>\n",
       "      <td>2023-03-28 00:05:40.676238</td>\n",
       "      <td>27</td>\n",
       "      <td>Monday</td>\n",
       "    </tr>\n",
       "    <tr>\n",
       "      <th>14998</th>\n",
       "      <td>1538109</td>\n",
       "      <td>2023-03-27 23:52:44</td>\n",
       "      <td>2023-03-28 00:08:41.810358</td>\n",
       "      <td>27</td>\n",
       "      <td>Monday</td>\n",
       "    </tr>\n",
       "    <tr>\n",
       "      <th>14999</th>\n",
       "      <td>1538110</td>\n",
       "      <td>2023-03-27 23:58:20</td>\n",
       "      <td>2023-03-28 00:13:42.499311</td>\n",
       "      <td>27</td>\n",
       "      <td>Monday</td>\n",
       "    </tr>\n",
       "  </tbody>\n",
       "</table>\n",
       "</div>"
      ],
      "text/plain": [
       "       order_id     order_placed_at         order_delivered_at  order_date  \\\n",
       "14995   1538106 2023-03-27 23:37:05 2023-03-27 23:52:37.409378          27   \n",
       "14996   1538107 2023-03-27 23:47:38 2023-03-28 00:04:22.672912          27   \n",
       "14997   1538108 2023-03-27 23:50:16 2023-03-28 00:05:40.676238          27   \n",
       "14998   1538109 2023-03-27 23:52:44 2023-03-28 00:08:41.810358          27   \n",
       "14999   1538110 2023-03-27 23:58:20 2023-03-28 00:13:42.499311          27   \n",
       "\n",
       "      order_day  \n",
       "14995    Monday  \n",
       "14996    Monday  \n",
       "14997    Monday  \n",
       "14998    Monday  \n",
       "14999    Monday  "
      ]
     },
     "execution_count": 12,
     "metadata": {},
     "output_type": "execute_result"
    }
   ],
   "source": [
    "df.tail()"
   ]
  },
  {
   "cell_type": "markdown",
   "id": "d7f34587-58e0-4aa7-94bf-45a32afd2e77",
   "metadata": {},
   "source": [
    "### Visualizing ###"
   ]
  },
  {
   "cell_type": "code",
   "execution_count": 13,
   "id": "2a82cacc-2dc7-44be-ae05-16e4f757fdc8",
   "metadata": {
    "tags": []
   },
   "outputs": [
    {
     "data": {
      "text/plain": [
       "<AxesSubplot: title={'center': 'No.of orders in month (Datewise)'}, xlabel='Orders', ylabel='Date of month'>"
      ]
     },
     "execution_count": 13,
     "metadata": {},
     "output_type": "execute_result"
    },
    {
     "data": {
      "image/png": "[encoded data removed]",
      "text/plain": [
       "<Figure size 640x480 with 1 Axes>"
      ]
     },
     "metadata": {},
     "output_type": "display_data"
    }
   ],
   "source": [
    "df['order_date'].value_counts().sort_index().plot(kind='barh',title='No.of orders in month (Datewise)',xlabel='Orders',ylabel='Date of month')"
   ]
  },
  {
   "cell_type": "code",
   "execution_count": 14,
   "id": "a9874ba9-8507-4284-ae65-0569926417d9",
   "metadata": {},
   "outputs": [
    {
     "data": {
      "text/plain": [
       "<AxesSubplot: title={'center': 'No.of orders (Daywise)'}, xlabel='Orders', ylabel='Day'>"
      ]
     },
     "execution_count": 14,
     "metadata": {},
     "output_type": "execute_result"
    },
    {
     "data": {
      "image/png": "[encoded data removed]",
      "text/plain": [
       "<Figure size 640x480 with 1 Axes>"
      ]
     },
     "metadata": {},
     "output_type": "display_data"
    }
   ],
   "source": [
    "df['order_day'].value_counts().plot(kind='barh',title='No.of orders (Daywise)',xlabel='Orders',ylabel='Day')"
   ]
  },
  {
   "cell_type": "markdown",
   "id": "dc060734-4d34-4576-9fde-a7a51ae5c442",
   "metadata": {},
   "source": [
    "### Finding Delivery Time ###"
   ]
  },
  {
   "cell_type": "code",
   "execution_count": 15,
   "id": "43cd636e-569b-4f4a-b7c0-fe70a78f7c3f",
   "metadata": {
    "tags": []
   },
   "outputs": [
    {
     "data": {
      "text/plain": [
       "Thursday     2280\n",
       "Wednesday    2259\n",
       "Monday       2256\n",
       "Friday       2223\n",
       "Saturday     2209\n",
       "Sunday       2191\n",
       "Tuesday      1582\n",
       "Name: order_day, dtype: int64"
      ]
     },
     "execution_count": 15,
     "metadata": {},
     "output_type": "execute_result"
    }
   ],
   "source": [
    "df['order_day'].value_counts()"
   ]
  },
  {
   "cell_type": "code",
   "execution_count": 16,
   "id": "0639f382-b7d6-415f-bdd5-5e582c7dc1ad",
   "metadata": {
    "tags": []
   },
   "outputs": [
    {
     "data": {
      "text/plain": [
       "count        15000\n",
       "unique           7\n",
       "top       Thursday\n",
       "freq          2280\n",
       "Name: order_day, dtype: object"
      ]
     },
     "execution_count": 16,
     "metadata": {},
     "output_type": "execute_result"
    }
   ],
   "source": [
    "df['order_day'].describe()"
   ]
  },
  {
   "cell_type": "code",
   "execution_count": 17,
   "id": "ca8c1d22-a8c0-4ca8-ab54-49a546e05420",
   "metadata": {
    "tags": []
   },
   "outputs": [],
   "source": [
    "delivery_time = df['order_delivered_at'] - df['order_placed_at']"
   ]
  },
  {
   "cell_type": "code",
   "execution_count": 18,
   "id": "140b8b88-6766-4b86-8852-736967e582fc",
   "metadata": {
    "tags": []
   },
   "outputs": [
    {
     "data": {
      "text/plain": [
       "0        17.140719\n",
       "1        15.598754\n",
       "2        15.104856\n",
       "3        38.533657\n",
       "4        16.176984\n",
       "           ...    \n",
       "14995    15.540156\n",
       "14996    16.744549\n",
       "14997    15.411271\n",
       "14998    15.963506\n",
       "14999    15.374989\n",
       "Length: 15000, dtype: float64"
      ]
     },
     "execution_count": 18,
     "metadata": {},
     "output_type": "execute_result"
    }
   ],
   "source": [
    "delivery_time = delivery_time.dt.total_seconds()/60\n",
    "delivery_time"
   ]
  },
  {
   "cell_type": "code",
   "execution_count": 19,
   "id": "2391d7ed-9ebc-4ee3-8796-597abc1fb792",
   "metadata": {
    "tags": []
   },
   "outputs": [],
   "source": [
    "df['delivery_time'] = delivery_time"
   ]
  },
  {
   "cell_type": "code",
   "execution_count": 20,
   "id": "67ec9618-026c-41d5-b877-98c863283aed",
   "metadata": {
    "tags": []
   },
   "outputs": [
    {
     "data": {
      "text/html": [
       "<div>\n",
       "<style scoped>\n",
       "    .dataframe tbody tr th:only-of-type {\n",
       "        vertical-align: middle;\n",
       "    }\n",
       "\n",
       "    .dataframe tbody tr th {\n",
       "        vertical-align: top;\n",
       "    }\n",
       "\n",
       "    .dataframe thead th {\n",
       "        text-align: right;\n",
       "    }\n",
       "</style>\n",
       "<table border=\"1\" class=\"dataframe\">\n",
       "  <thead>\n",
       "    <tr style=\"text-align: right;\">\n",
       "      <th></th>\n",
       "      <th>order_id</th>\n",
       "      <th>order_placed_at</th>\n",
       "      <th>order_delivered_at</th>\n",
       "      <th>order_date</th>\n",
       "      <th>order_day</th>\n",
       "      <th>delivery_time</th>\n",
       "    </tr>\n",
       "  </thead>\n",
       "  <tbody>\n",
       "    <tr>\n",
       "      <th>0</th>\n",
       "      <td>1523111</td>\n",
       "      <td>2023-03-01 00:00:59</td>\n",
       "      <td>2023-03-01 00:18:07.443132</td>\n",
       "      <td>1</td>\n",
       "      <td>Wednesday</td>\n",
       "      <td>17.140719</td>\n",
       "    </tr>\n",
       "    <tr>\n",
       "      <th>1</th>\n",
       "      <td>1523112</td>\n",
       "      <td>2023-03-01 00:03:59</td>\n",
       "      <td>2023-03-01 00:19:34.925241</td>\n",
       "      <td>1</td>\n",
       "      <td>Wednesday</td>\n",
       "      <td>15.598754</td>\n",
       "    </tr>\n",
       "    <tr>\n",
       "      <th>2</th>\n",
       "      <td>1523113</td>\n",
       "      <td>2023-03-01 00:07:22</td>\n",
       "      <td>2023-03-01 00:22:28.291385</td>\n",
       "      <td>1</td>\n",
       "      <td>Wednesday</td>\n",
       "      <td>15.104856</td>\n",
       "    </tr>\n",
       "    <tr>\n",
       "      <th>3</th>\n",
       "      <td>1523114</td>\n",
       "      <td>2023-03-01 00:07:47</td>\n",
       "      <td>2023-03-01 00:46:19.019399</td>\n",
       "      <td>1</td>\n",
       "      <td>Wednesday</td>\n",
       "      <td>38.533657</td>\n",
       "    </tr>\n",
       "    <tr>\n",
       "      <th>4</th>\n",
       "      <td>1523115</td>\n",
       "      <td>2023-03-01 00:09:03</td>\n",
       "      <td>2023-03-01 00:25:13.619056</td>\n",
       "      <td>1</td>\n",
       "      <td>Wednesday</td>\n",
       "      <td>16.176984</td>\n",
       "    </tr>\n",
       "  </tbody>\n",
       "</table>\n",
       "</div>"
      ],
      "text/plain": [
       "   order_id     order_placed_at         order_delivered_at  order_date  \\\n",
       "0   1523111 2023-03-01 00:00:59 2023-03-01 00:18:07.443132           1   \n",
       "1   1523112 2023-03-01 00:03:59 2023-03-01 00:19:34.925241           1   \n",
       "2   1523113 2023-03-01 00:07:22 2023-03-01 00:22:28.291385           1   \n",
       "3   1523114 2023-03-01 00:07:47 2023-03-01 00:46:19.019399           1   \n",
       "4   1523115 2023-03-01 00:09:03 2023-03-01 00:25:13.619056           1   \n",
       "\n",
       "   order_day  delivery_time  \n",
       "0  Wednesday      17.140719  \n",
       "1  Wednesday      15.598754  \n",
       "2  Wednesday      15.104856  \n",
       "3  Wednesday      38.533657  \n",
       "4  Wednesday      16.176984  "
      ]
     },
     "execution_count": 20,
     "metadata": {},
     "output_type": "execute_result"
    }
   ],
   "source": [
    "df.head()"
   ]
  },
  {
   "cell_type": "code",
   "execution_count": 21,
   "id": "f04d0c92-5a01-44b9-aac8-8c00a7543e1c",
   "metadata": {
    "tags": []
   },
   "outputs": [
    {
     "data": {
      "text/plain": [
       "dtype('float64')"
      ]
     },
     "execution_count": 21,
     "metadata": {},
     "output_type": "execute_result"
    }
   ],
   "source": [
    "df['delivery_time'].dtype"
   ]
  },
  {
   "cell_type": "markdown",
   "id": "b05e0788-a14b-4b28-a48c-5028c42f66a2",
   "metadata": {},
   "source": [
    "### Detecting Outliers ###"
   ]
  },
  {
   "cell_type": "code",
   "execution_count": 22,
   "id": "5df52c05-0b96-4a0f-a0a1-a59fb3c5b95e",
   "metadata": {
    "tags": []
   },
   "outputs": [
    {
     "data": {
      "text/plain": [
       "count    15000.000000\n",
       "mean        20.499389\n",
       "std         96.160362\n",
       "min         15.000010\n",
       "25%         15.274826\n",
       "50%         15.797986\n",
       "75%         17.279661\n",
       "max       7299.831375\n",
       "Name: delivery_time, dtype: float64"
      ]
     },
     "execution_count": 22,
     "metadata": {},
     "output_type": "execute_result"
    }
   ],
   "source": [
    "df['delivery_time'].describe()"
   ]
  },
  {
   "cell_type": "code",
   "execution_count": 23,
   "id": "46ded0d7-6aa2-4696-aa64-fc67f3a45d83",
   "metadata": {
    "tags": []
   },
   "outputs": [
    {
     "data": {
      "text/plain": [
       "<AxesSubplot: >"
      ]
     },
     "execution_count": 23,
     "metadata": {},
     "output_type": "execute_result"
    },
    {
     "data": {
      "image/png": "[encoded data removed]",
      "text/plain": [
       "<Figure size 640x480 with 1 Axes>"
      ]
     },
     "metadata": {},
     "output_type": "display_data"
    }
   ],
   "source": [
    "df['delivery_time'].plot(kind = 'box')"
   ]
  },
  {
   "cell_type": "markdown",
   "id": "140da938-bbd4-49a4-be57-e9c23b14dfef",
   "metadata": {},
   "source": [
    "### Treating Outliers ###"
   ]
  },
  {
   "cell_type": "code",
   "execution_count": 24,
   "id": "72fcbd97-46eb-4604-a206-62e431479dcf",
   "metadata": {
    "tags": []
   },
   "outputs": [],
   "source": [
    "clean_df =df[df['delivery_time'] < 40]"
   ]
  },
  {
   "cell_type": "code",
   "execution_count": 25,
   "id": "4c6b6515-5662-4840-ad2f-863060d95aee",
   "metadata": {
    "tags": []
   },
   "outputs": [
    {
     "data": {
      "text/plain": [
       "count    14669.000000\n",
       "mean        16.992520\n",
       "std          3.361265\n",
       "min         15.000010\n",
       "25%         15.266572\n",
       "50%         15.763923\n",
       "75%         17.099512\n",
       "max         39.918947\n",
       "Name: delivery_time, dtype: float64"
      ]
     },
     "execution_count": 25,
     "metadata": {},
     "output_type": "execute_result"
    }
   ],
   "source": [
    "clean_df['delivery_time'].describe()"
   ]
  },
  {
   "cell_type": "code",
   "execution_count": 26,
   "id": "82617227-0c31-49aa-84c1-8166f6760fcd",
   "metadata": {
    "tags": []
   },
   "outputs": [
    {
     "data": {
      "text/plain": [
       "<AxesSubplot: >"
      ]
     },
     "execution_count": 26,
     "metadata": {},
     "output_type": "execute_result"
    },
    {
     "data": {
      "image/png": "[encoded data removed]",
      "text/plain": [
       "<Figure size 640x480 with 1 Axes>"
      ]
     },
     "metadata": {},
     "output_type": "display_data"
    }
   ],
   "source": [
    "clean_df['delivery_time'].plot(kind = 'box')"
   ]
  },
  {
   "cell_type": "markdown",
   "id": "47069254-2dd2-4314-9bbe-6daf1d149ff3",
   "metadata": {},
   "source": [
    "### Finding performace of dominos ###"
   ]
  },
  {
   "cell_type": "code",
   "execution_count": 27,
   "id": "f593bc6b-3b54-4911-ae37-00eaf85acd04",
   "metadata": {
    "tags": []
   },
   "outputs": [
    {
     "name": "stdout",
     "output_type": "stream",
     "text": [
      "95th Percentile on Order Delivery time :  23.596276583333314\n"
     ]
    }
   ],
   "source": [
    "print('95th Percentile on Order Delivery time : ',clean_df['delivery_time'].quantile(0.95))"
   ]
  },
  {
   "cell_type": "code",
   "execution_count": 32,
   "id": "de8dc1cf-eecc-4ccf-b1de-0e2026c9e59d",
   "metadata": {
    "tags": []
   },
   "outputs": [
    {
     "name": "stdout",
     "output_type": "stream",
     "text": [
      "No. of on time deliveries : (14443, 6)\n"
     ]
    }
   ],
   "source": [
    "on_time_delivery = clean_df[clean_df['delivery_time'] < 31 ].shape\n",
    "print('No. of on time deliveries :',on_time_delivery)"
   ]
  },
  {
   "cell_type": "code",
   "execution_count": 29,
   "id": "79b465bb-5f2b-4470-8277-b4e5ca7054ad",
   "metadata": {
    "tags": []
   },
   "outputs": [
    {
     "name": "stdout",
     "output_type": "stream",
     "text": [
      "No. of late deliveries : (226, 6)\n"
     ]
    }
   ],
   "source": [
    "late_delivery = clean_df[clean_df['delivery_time'] > 31 ].shape\n",
    "print('No. of late deliveries :', late_delivery)"
   ]
  },
  {
   "cell_type": "code",
   "execution_count": 30,
   "id": "5126786d-9822-45bd-891d-b89a3817fa68",
   "metadata": {
    "tags": []
   },
   "outputs": [
    {
     "name": "stdout",
     "output_type": "stream",
     "text": [
      "Total Delivery is :  15000\n"
     ]
    }
   ],
   "source": [
    "total_delivery = df['delivery_time'].count()\n",
    "print('Total Delivery is : ',total_delivery)"
   ]
  },
  {
   "cell_type": "code",
   "execution_count": 31,
   "id": "09b6796c-a850-439b-a427-2de656aa71fb",
   "metadata": {
    "tags": []
   },
   "outputs": [
    {
     "name": "stdout",
     "output_type": "stream",
     "text": [
      "Delivery performance : 98.49333333333334\n"
     ]
    }
   ],
   "source": [
    "print('Delivery performance :',((15000-226)/15000)*100)"
   ]
  },
  {
   "cell_type": "markdown",
   "id": "3a011d71-16a8-4458-8421-6bfacbe5ca9c",
   "metadata": {},
   "source": [
    "### Summary ###"
   ]
  },
  {
   "cell_type": "markdown",
   "id": "d8fa5f0c-45c5-4eab-a2d9-066a7d2311c1",
   "metadata": {},
   "source": [
    "Average delivery time(after treating outliers): 15.76<br>\n",
    "Delivery performance : 98.49<br>\n",
    "On time delivery : 14443<br>\n",
    "Late delivery : 226<br>\n",
    "95 Percentile on order delivery time : 23.59<br>\n",
    "\n",
    "##### 95 percentile is less than 31 ##### <br>\n",
    "### Kanav's pizza store is perform well ###\n",
    "\n",
    "\n"
   ]
  },
  {
   "cell_type": "code",
   "execution_count": null,
   "id": "31bb6c68-5d7a-444c-b5c0-b75b927f582e",
   "metadata": {},
   "outputs": [],
   "source": []
  }
 ],
 "metadata": {
  "kernelspec": {
   "display_name": "Python 3 (ipykernel)",
   "language": "python",
   "name": "python3"
  },
  "language_info": {
   "codemirror_mode": {
    "name": "ipython",
    "version": 3
   },
   "file_extension": ".py",
   "mimetype": "text/x-python",
   "name": "python",
   "nbconvert_exporter": "python",
   "pygments_lexer": "ipython3",
   "version": "3.11.1"
  }
 },
 "nbformat": 4,
 "nbformat_minor": 5
}

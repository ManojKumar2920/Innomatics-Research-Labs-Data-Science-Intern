{
 "cells": [
  {
   "cell_type": "markdown",
   "id": "3cfe6913-2575-4760-88ad-c1258e0a37c6",
   "metadata": {
    "tags": []
   },
   "source": [
    "# Innomatics Research Labs Data Science Internship #\n",
    "\n",
    "## Analysis on ML Scores ##\n",
    "\n",
    "#### Code Author - Manoj Kumar ####"
   ]
  },
  {
   "cell_type": "markdown",
   "id": "ec77ed5f-6753-42e8-a8cc-6a125ca293f7",
   "metadata": {
    "tags": []
   },
   "source": [
    "### Import required modules ###"
   ]
  },
  {
   "cell_type": "code",
   "execution_count": 22,
   "id": "5ab95e6a-602d-4bb8-8ff3-55f285302c7a",
   "metadata": {
    "tags": []
   },
   "outputs": [],
   "source": [
    "import numpy as np\n",
    "import pandas as pd"
   ]
  },
  {
   "cell_type": "code",
   "execution_count": 23,
   "id": "8eae6f9c-4435-4d82-8d3c-d1d7a989684a",
   "metadata": {
    "tags": []
   },
   "outputs": [
    {
     "data": {
      "text/html": [
       "<div>\n",
       "<style scoped>\n",
       "    .dataframe tbody tr th:only-of-type {\n",
       "        vertical-align: middle;\n",
       "    }\n",
       "\n",
       "    .dataframe tbody tr th {\n",
       "        vertical-align: top;\n",
       "    }\n",
       "\n",
       "    .dataframe thead th {\n",
       "        text-align: right;\n",
       "    }\n",
       "</style>\n",
       "<table border=\"1\" class=\"dataframe\">\n",
       "  <thead>\n",
       "    <tr style=\"text-align: right;\">\n",
       "      <th></th>\n",
       "      <th>Batch</th>\n",
       "      <th>User_ID</th>\n",
       "      <th>Score</th>\n",
       "    </tr>\n",
       "  </thead>\n",
       "  <tbody>\n",
       "    <tr>\n",
       "      <th>0</th>\n",
       "      <td>AI_ELITE_7</td>\n",
       "      <td>uid_149</td>\n",
       "      <td>6 / 7</td>\n",
       "    </tr>\n",
       "    <tr>\n",
       "      <th>1</th>\n",
       "      <td>AI_ELITE_7</td>\n",
       "      <td>uid_148</td>\n",
       "      <td>6 / 7</td>\n",
       "    </tr>\n",
       "    <tr>\n",
       "      <th>2</th>\n",
       "      <td>AI_ELITE_7</td>\n",
       "      <td>uid_147</td>\n",
       "      <td>7 / 7</td>\n",
       "    </tr>\n",
       "    <tr>\n",
       "      <th>3</th>\n",
       "      <td>AI_ELITE_7</td>\n",
       "      <td>uid_146</td>\n",
       "      <td>7 / 7</td>\n",
       "    </tr>\n",
       "    <tr>\n",
       "      <th>4</th>\n",
       "      <td>AI_ELITE_7</td>\n",
       "      <td>uid_145</td>\n",
       "      <td>4 / 7</td>\n",
       "    </tr>\n",
       "  </tbody>\n",
       "</table>\n",
       "</div>"
      ],
      "text/plain": [
       "       Batch  User_ID     Score   \n",
       "0  AI_ELITE_7  uid_149       6 / 7\n",
       "1  AI_ELITE_7  uid_148       6 / 7\n",
       "2  AI_ELITE_7  uid_147       7 / 7\n",
       "3  AI_ELITE_7  uid_146       7 / 7\n",
       "4  AI_ELITE_7  uid_145       4 / 7"
      ]
     },
     "execution_count": 23,
     "metadata": {},
     "output_type": "execute_result"
    }
   ],
   "source": [
    "df = pd.read_csv('E:\\Mano@workspace\\Datasets\\scores_data.csv')\n",
    "df.head()"
   ]
  },
  {
   "cell_type": "markdown",
   "id": "ef7ad337-5036-4171-b85e-6f98812acb70",
   "metadata": {},
   "source": [
    "### Clean the data ###"
   ]
  },
  {
   "cell_type": "code",
   "execution_count": 24,
   "id": "46fda7e8-b9b2-41d4-8498-20b73f57fe44",
   "metadata": {
    "tags": []
   },
   "outputs": [
    {
     "name": "stdout",
     "output_type": "stream",
     "text": [
      "<class 'pandas.core.frame.DataFrame'>\n",
      "RangeIndex: 149 entries, 0 to 148\n",
      "Data columns (total 3 columns):\n",
      " #   Column       Non-Null Count  Dtype \n",
      "---  ------       --------------  ----- \n",
      " 0   Batch        149 non-null    object\n",
      " 1   User_ID      149 non-null    object\n",
      " 2      Score     149 non-null    object\n",
      "dtypes: object(3)\n",
      "memory usage: 3.6+ KB\n"
     ]
    }
   ],
   "source": [
    "df.info()"
   ]
  },
  {
   "cell_type": "code",
   "execution_count": 25,
   "id": "3cb11ca3-43bf-40b0-8287-ddbd2fe8054f",
   "metadata": {
    "tags": []
   },
   "outputs": [
    {
     "data": {
      "text/plain": [
       "Index(['Batch ', 'User_ID ', '   Score   '], dtype='object')"
      ]
     },
     "execution_count": 25,
     "metadata": {},
     "output_type": "execute_result"
    }
   ],
   "source": [
    "df.columns"
   ]
  },
  {
   "cell_type": "code",
   "execution_count": 26,
   "id": "d3a17e65-3e91-4f33-82e4-2642ee41af44",
   "metadata": {
    "tags": []
   },
   "outputs": [],
   "source": [
    "df.columns = df.columns.str.replace(' ','')"
   ]
  },
  {
   "cell_type": "code",
   "execution_count": 27,
   "id": "e1f62d82-3d38-4d88-8635-6924f63c3711",
   "metadata": {
    "tags": []
   },
   "outputs": [
    {
     "data": {
      "text/plain": [
       "Index(['Batch', 'User_ID', 'Score'], dtype='object')"
      ]
     },
     "execution_count": 27,
     "metadata": {},
     "output_type": "execute_result"
    }
   ],
   "source": [
    "df.columns"
   ]
  },
  {
   "cell_type": "markdown",
   "id": "7a093c0c-cd44-40fe-a8a5-00e8734263f6",
   "metadata": {},
   "source": [
    "### Analyse the test scores ###"
   ]
  },
  {
   "cell_type": "code",
   "execution_count": 30,
   "id": "96364c89-43ca-4cf5-beb9-030e593aea2b",
   "metadata": {
    "tags": []
   },
   "outputs": [
    {
     "data": {
      "text/plain": [
       "Batch      149\n",
       "User_ID    149\n",
       "Score      149\n",
       "dtype: int64"
      ]
     },
     "execution_count": 30,
     "metadata": {},
     "output_type": "execute_result"
    }
   ],
   "source": [
    "df.count()"
   ]
  },
  {
   "cell_type": "code",
   "execution_count": 38,
   "id": "e9c190f4-97f1-4a6a-a00d-d75468dea827",
   "metadata": {
    "tags": []
   },
   "outputs": [
    {
     "name": "stdout",
     "output_type": "stream",
     "text": [
      "Minimum Score is : 0 / 7\n"
     ]
    }
   ],
   "source": [
    "min = df['Score'].min()\n",
    "print('Minimum Score is :',min)"
   ]
  },
  {
   "cell_type": "code",
   "execution_count": 39,
   "id": "27e48967-e011-4979-99e6-a3f8c781de95",
   "metadata": {
    "tags": []
   },
   "outputs": [
    {
     "name": "stdout",
     "output_type": "stream",
     "text": [
      "Maximun Score is : 7 / 7\n"
     ]
    }
   ],
   "source": [
    "max = df['Score'].max()\n",
    "print('Maximun Score is :',max)b"
   ]
  },
  {
   "cell_type": "code",
   "execution_count": 88,
   "id": "963638ae-b5a3-41c4-a4c4-973fd4676631",
   "metadata": {
    "tags": []
   },
   "outputs": [
    {
     "name": "stdout",
     "output_type": "stream",
     "text": [
      "Scores Count:\n",
      " 4 / 7    40\n",
      "5 / 7    32\n",
      "3 / 7    24\n",
      "6 / 7    18\n",
      "7 / 7    18\n",
      "2 / 7    12\n",
      "1 / 7     3\n",
      "0 / 7     2\n",
      "Name: Score, dtype: int64\n"
     ]
    }
   ],
   "source": [
    "Scores = df['Score'].value_counts()\n",
    "print('Scores Count:\\n',Scores)"
   ]
  },
  {
   "cell_type": "code",
   "execution_count": 117,
   "id": "c40d13e4-a0bd-4ef8-8ca6-24efe6b562d7",
   "metadata": {
    "tags": []
   },
   "outputs": [
    {
     "name": "stdout",
     "output_type": "stream",
     "text": [
      "Batch names:\n",
      " AI_ELITE_7    53\n",
      "AI_ELITE_6    48\n",
      "AI_ELITE_4    48\n",
      "Name: Batch, dtype: int64\n"
     ]
    }
   ],
   "source": [
    "Batch = df[\"Batch\"].value_counts()\n",
    "print('Batch names:\\n',Batch)"
   ]
  },
  {
   "cell_type": "code",
   "execution_count": 116,
   "id": "ffee20b7-d1d9-46ef-a939-ce9f8fe84572",
   "metadata": {
    "tags": []
   },
   "outputs": [
    {
     "data": {
      "text/html": [
       "<div>\n",
       "<style scoped>\n",
       "    .dataframe tbody tr th:only-of-type {\n",
       "        vertical-align: middle;\n",
       "    }\n",
       "\n",
       "    .dataframe tbody tr th {\n",
       "        vertical-align: top;\n",
       "    }\n",
       "\n",
       "    .dataframe thead th {\n",
       "        text-align: right;\n",
       "    }\n",
       "</style>\n",
       "<table border=\"1\" class=\"dataframe\">\n",
       "  <thead>\n",
       "    <tr style=\"text-align: right;\">\n",
       "      <th></th>\n",
       "      <th>Batch</th>\n",
       "      <th>User_ID</th>\n",
       "      <th>Score</th>\n",
       "    </tr>\n",
       "  </thead>\n",
       "  <tbody>\n",
       "    <tr>\n",
       "      <th>count</th>\n",
       "      <td>149</td>\n",
       "      <td>149</td>\n",
       "      <td>149</td>\n",
       "    </tr>\n",
       "    <tr>\n",
       "      <th>unique</th>\n",
       "      <td>3</td>\n",
       "      <td>149</td>\n",
       "      <td>8</td>\n",
       "    </tr>\n",
       "    <tr>\n",
       "      <th>top</th>\n",
       "      <td>AI_ELITE_7</td>\n",
       "      <td>uid_149</td>\n",
       "      <td>4 / 7</td>\n",
       "    </tr>\n",
       "    <tr>\n",
       "      <th>freq</th>\n",
       "      <td>53</td>\n",
       "      <td>1</td>\n",
       "      <td>40</td>\n",
       "    </tr>\n",
       "  </tbody>\n",
       "</table>\n",
       "</div>"
      ],
      "text/plain": [
       "             Batch  User_ID  Score\n",
       "count          149      149    149\n",
       "unique           3      149      8\n",
       "top     AI_ELITE_7  uid_149  4 / 7\n",
       "freq            53        1     40"
      ]
     },
     "execution_count": 116,
     "metadata": {},
     "output_type": "execute_result"
    }
   ],
   "source": [
    "df.describe()"
   ]
  },
  {
   "cell_type": "markdown",
   "id": "0291f8d7-ce4d-4d92-b608-e0db6bff9c77",
   "metadata": {},
   "source": [
    "##### Finding highest scores (Above 6/7) #####"
   ]
  },
  {
   "cell_type": "code",
   "execution_count": 123,
   "id": "d97a3ee3-1311-45be-99a3-80246d2ded89",
   "metadata": {
    "tags": []
   },
   "outputs": [],
   "source": [
    "df['Score'] = df['Score'].str.replace(' / 7','')"
   ]
  },
  {
   "cell_type": "code",
   "execution_count": 131,
   "id": "6202016d-2668-44ef-8e8d-96fdd1de85a0",
   "metadata": {
    "tags": []
   },
   "outputs": [],
   "source": [
    "df['Score'] = df['Score'].astype('int')"
   ]
  },
  {
   "cell_type": "code",
   "execution_count": 138,
   "id": "4ecd96a9-d334-44f8-a490-2378f254ca37",
   "metadata": {
    "tags": []
   },
   "outputs": [
    {
     "name": "stdout",
     "output_type": "stream",
     "text": [
      "Highest Scores :\n",
      "           Batch  User_ID  Score\n",
      "0    AI_ELITE_7  uid_149      6\n",
      "1    AI_ELITE_7  uid_148      6\n",
      "2    AI_ELITE_7  uid_147      7\n",
      "3    AI_ELITE_7  uid_146      7\n",
      "5    AI_ELITE_7  uid_144      7\n",
      "7    AI_ELITE_7  uid_142      7\n",
      "9    AI_ELITE_7  uid_140      6\n",
      "10   AI_ELITE_7  uid_139      6\n",
      "12   AI_ELITE_7  uid_137      6\n",
      "14   AI_ELITE_7  uid_135      6\n",
      "15   AI_ELITE_7  uid_134      7\n",
      "16   AI_ELITE_7  uid_133      7\n",
      "17   AI_ELITE_7  uid_132      7\n",
      "19   AI_ELITE_7  uid_130      7\n",
      "22   AI_ELITE_7  uid_127      6\n",
      "24   AI_ELITE_7  uid_125      7\n",
      "27   AI_ELITE_7  uid_122      6\n",
      "30   AI_ELITE_7  uid_119      6\n",
      "34   AI_ELITE_7  uid_115      6\n",
      "35   AI_ELITE_7  uid_114      7\n",
      "36   AI_ELITE_7  uid_113      6\n",
      "44   AI_ELITE_7  uid_105      6\n",
      "48   AI_ELITE_7  uid_101      6\n",
      "55   AI_ELITE_6   uid_94      6\n",
      "56   AI_ELITE_6   uid_93      6\n",
      "63   AI_ELITE_6   uid_86      7\n",
      "67   AI_ELITE_6   uid_82      7\n",
      "74   AI_ELITE_6   uid_75      7\n",
      "78   AI_ELITE_6   uid_71      7\n",
      "79   AI_ELITE_6   uid_70      6\n",
      "81   AI_ELITE_6   uid_68      6\n",
      "98   AI_ELITE_6   uid_51      7\n",
      "101  AI_ELITE_4   uid_48      7\n",
      "105  AI_ELITE_4   uid_44      7\n",
      "107  AI_ELITE_4   uid_42      6\n",
      "139  AI_ELITE_4   uid_10      7\n"
     ]
    }
   ],
   "source": [
    "Highest_Score = df[df.Score >=6]\n",
    "print('Highest Scores :\\n',Highest_Score)"
   ]
  },
  {
   "cell_type": "code",
   "execution_count": 149,
   "id": "84094f51-0c90-4967-8942-72499b277d6b",
   "metadata": {
    "tags": []
   },
   "outputs": [
    {
     "name": "stdout",
     "output_type": "stream",
     "text": [
      "Highest Scores Count : 36\n"
     ]
    }
   ],
   "source": [
    "print('Highest Scores Count :',Highest_Score.Batch.count())"
   ]
  },
  {
   "cell_type": "markdown",
   "id": "ba570b2b-6f15-4467-96b4-eaa123792f3e",
   "metadata": {},
   "source": [
    "##### Finding Lowest scores (Below 2/7) #####"
   ]
  },
  {
   "cell_type": "code",
   "execution_count": 147,
   "id": "ab5837e3-0b64-4144-a661-ff715d2a3a3f",
   "metadata": {
    "tags": []
   },
   "outputs": [
    {
     "name": "stdout",
     "output_type": "stream",
     "text": [
      "Lowest Scores :\n",
      "           Batch  User_ID  Score\n",
      "37   AI_ELITE_7  uid_112      2\n",
      "50   AI_ELITE_7   uid_99      2\n",
      "68   AI_ELITE_6   uid_81      0\n",
      "71   AI_ELITE_6   uid_78      1\n",
      "92   AI_ELITE_6   uid_57      2\n",
      "93   AI_ELITE_6   uid_56      2\n",
      "95   AI_ELITE_6   uid_54      2\n",
      "97   AI_ELITE_6   uid_52      1\n",
      "108  AI_ELITE_4   uid_41      2\n",
      "109  AI_ELITE_4   uid_40      2\n",
      "111  AI_ELITE_4   uid_38      2\n",
      "113  AI_ELITE_4   uid_36      2\n",
      "114  AI_ELITE_4   uid_35      2\n",
      "116  AI_ELITE_4   uid_33      2\n",
      "129  AI_ELITE_4   uid_20      1\n",
      "135  AI_ELITE_4   uid_14      0\n",
      "148  AI_ELITE_4    uid_1      2\n"
     ]
    }
   ],
   "source": [
    "Lowest_Score = df[df.Score <=2]\n",
    "print('Lowest Scores :\\n',Lowest_Score)"
   ]
  },
  {
   "cell_type": "code",
   "execution_count": 148,
   "id": "753a9226-7131-40fd-806c-9f72afee4234",
   "metadata": {
    "tags": []
   },
   "outputs": [
    {
     "name": "stdout",
     "output_type": "stream",
     "text": [
      "Lowest Scores Count : 17\n"
     ]
    }
   ],
   "source": [
    "print('Lowest Scores Count :',Lowest_Score.Batch.count())"
   ]
  },
  {
   "cell_type": "markdown",
   "id": "d0249c3c-eec6-4865-ae5d-7ce68c9ad5b7",
   "metadata": {},
   "source": [
    "##### Finding best batch (based on scores performance) #####"
   ]
  },
  {
   "cell_type": "code",
   "execution_count": 153,
   "id": "5fc17901-6662-4c39-a20c-7e1b18c48e2d",
   "metadata": {
    "tags": []
   },
   "outputs": [],
   "source": [
    "Elite_7= df[df.Batch =='AI_ELITE_7']\n",
    "Elite_6= df[df.Batch =='AI_ELITE_6']\n",
    "Elite_4= df[df.Batch =='AI_ELITE_4']"
   ]
  },
  {
   "cell_type": "code",
   "execution_count": 156,
   "id": "da54b166-a56f-497b-9266-1ec55f92ea43",
   "metadata": {
    "tags": []
   },
   "outputs": [
    {
     "data": {
      "text/html": [
       "<div>\n",
       "<style scoped>\n",
       "    .dataframe tbody tr th:only-of-type {\n",
       "        vertical-align: middle;\n",
       "    }\n",
       "\n",
       "    .dataframe tbody tr th {\n",
       "        vertical-align: top;\n",
       "    }\n",
       "\n",
       "    .dataframe thead th {\n",
       "        text-align: right;\n",
       "    }\n",
       "</style>\n",
       "<table border=\"1\" class=\"dataframe\">\n",
       "  <thead>\n",
       "    <tr style=\"text-align: right;\">\n",
       "      <th></th>\n",
       "      <th>Batch</th>\n",
       "      <th>User_ID</th>\n",
       "      <th>Score</th>\n",
       "    </tr>\n",
       "  </thead>\n",
       "  <tbody>\n",
       "    <tr>\n",
       "      <th>2</th>\n",
       "      <td>AI_ELITE_7</td>\n",
       "      <td>uid_147</td>\n",
       "      <td>7</td>\n",
       "    </tr>\n",
       "    <tr>\n",
       "      <th>3</th>\n",
       "      <td>AI_ELITE_7</td>\n",
       "      <td>uid_146</td>\n",
       "      <td>7</td>\n",
       "    </tr>\n",
       "    <tr>\n",
       "      <th>5</th>\n",
       "      <td>AI_ELITE_7</td>\n",
       "      <td>uid_144</td>\n",
       "      <td>7</td>\n",
       "    </tr>\n",
       "    <tr>\n",
       "      <th>7</th>\n",
       "      <td>AI_ELITE_7</td>\n",
       "      <td>uid_142</td>\n",
       "      <td>7</td>\n",
       "    </tr>\n",
       "    <tr>\n",
       "      <th>15</th>\n",
       "      <td>AI_ELITE_7</td>\n",
       "      <td>uid_134</td>\n",
       "      <td>7</td>\n",
       "    </tr>\n",
       "    <tr>\n",
       "      <th>16</th>\n",
       "      <td>AI_ELITE_7</td>\n",
       "      <td>uid_133</td>\n",
       "      <td>7</td>\n",
       "    </tr>\n",
       "    <tr>\n",
       "      <th>17</th>\n",
       "      <td>AI_ELITE_7</td>\n",
       "      <td>uid_132</td>\n",
       "      <td>7</td>\n",
       "    </tr>\n",
       "    <tr>\n",
       "      <th>19</th>\n",
       "      <td>AI_ELITE_7</td>\n",
       "      <td>uid_130</td>\n",
       "      <td>7</td>\n",
       "    </tr>\n",
       "    <tr>\n",
       "      <th>24</th>\n",
       "      <td>AI_ELITE_7</td>\n",
       "      <td>uid_125</td>\n",
       "      <td>7</td>\n",
       "    </tr>\n",
       "    <tr>\n",
       "      <th>35</th>\n",
       "      <td>AI_ELITE_7</td>\n",
       "      <td>uid_114</td>\n",
       "      <td>7</td>\n",
       "    </tr>\n",
       "  </tbody>\n",
       "</table>\n",
       "</div>"
      ],
      "text/plain": [
       "         Batch  User_ID  Score\n",
       "2   AI_ELITE_7  uid_147      7\n",
       "3   AI_ELITE_7  uid_146      7\n",
       "5   AI_ELITE_7  uid_144      7\n",
       "7   AI_ELITE_7  uid_142      7\n",
       "15  AI_ELITE_7  uid_134      7\n",
       "16  AI_ELITE_7  uid_133      7\n",
       "17  AI_ELITE_7  uid_132      7\n",
       "19  AI_ELITE_7  uid_130      7\n",
       "24  AI_ELITE_7  uid_125      7\n",
       "35  AI_ELITE_7  uid_114      7"
      ]
     },
     "execution_count": 156,
     "metadata": {},
     "output_type": "execute_result"
    }
   ],
   "source": [
    "Elite_7[Elite_7.Score == 7]"
   ]
  },
  {
   "cell_type": "code",
   "execution_count": 157,
   "id": "b7262218-9ed5-43b5-9b07-6791d8f0f202",
   "metadata": {
    "tags": []
   },
   "outputs": [
    {
     "data": {
      "text/html": [
       "<div>\n",
       "<style scoped>\n",
       "    .dataframe tbody tr th:only-of-type {\n",
       "        vertical-align: middle;\n",
       "    }\n",
       "\n",
       "    .dataframe tbody tr th {\n",
       "        vertical-align: top;\n",
       "    }\n",
       "\n",
       "    .dataframe thead th {\n",
       "        text-align: right;\n",
       "    }\n",
       "</style>\n",
       "<table border=\"1\" class=\"dataframe\">\n",
       "  <thead>\n",
       "    <tr style=\"text-align: right;\">\n",
       "      <th></th>\n",
       "      <th>Batch</th>\n",
       "      <th>User_ID</th>\n",
       "      <th>Score</th>\n",
       "    </tr>\n",
       "  </thead>\n",
       "  <tbody>\n",
       "    <tr>\n",
       "      <th>63</th>\n",
       "      <td>AI_ELITE_6</td>\n",
       "      <td>uid_86</td>\n",
       "      <td>7</td>\n",
       "    </tr>\n",
       "    <tr>\n",
       "      <th>67</th>\n",
       "      <td>AI_ELITE_6</td>\n",
       "      <td>uid_82</td>\n",
       "      <td>7</td>\n",
       "    </tr>\n",
       "    <tr>\n",
       "      <th>74</th>\n",
       "      <td>AI_ELITE_6</td>\n",
       "      <td>uid_75</td>\n",
       "      <td>7</td>\n",
       "    </tr>\n",
       "    <tr>\n",
       "      <th>78</th>\n",
       "      <td>AI_ELITE_6</td>\n",
       "      <td>uid_71</td>\n",
       "      <td>7</td>\n",
       "    </tr>\n",
       "    <tr>\n",
       "      <th>98</th>\n",
       "      <td>AI_ELITE_6</td>\n",
       "      <td>uid_51</td>\n",
       "      <td>7</td>\n",
       "    </tr>\n",
       "  </tbody>\n",
       "</table>\n",
       "</div>"
      ],
      "text/plain": [
       "         Batch User_ID  Score\n",
       "63  AI_ELITE_6  uid_86      7\n",
       "67  AI_ELITE_6  uid_82      7\n",
       "74  AI_ELITE_6  uid_75      7\n",
       "78  AI_ELITE_6  uid_71      7\n",
       "98  AI_ELITE_6  uid_51      7"
      ]
     },
     "execution_count": 157,
     "metadata": {},
     "output_type": "execute_result"
    }
   ],
   "source": [
    "Elite_6[Elite_6.Score == 7]"
   ]
  },
  {
   "cell_type": "code",
   "execution_count": 158,
   "id": "554d06ff-680d-4fb7-bfec-a148a354895f",
   "metadata": {
    "tags": []
   },
   "outputs": [
    {
     "data": {
      "text/html": [
       "<div>\n",
       "<style scoped>\n",
       "    .dataframe tbody tr th:only-of-type {\n",
       "        vertical-align: middle;\n",
       "    }\n",
       "\n",
       "    .dataframe tbody tr th {\n",
       "        vertical-align: top;\n",
       "    }\n",
       "\n",
       "    .dataframe thead th {\n",
       "        text-align: right;\n",
       "    }\n",
       "</style>\n",
       "<table border=\"1\" class=\"dataframe\">\n",
       "  <thead>\n",
       "    <tr style=\"text-align: right;\">\n",
       "      <th></th>\n",
       "      <th>Batch</th>\n",
       "      <th>User_ID</th>\n",
       "      <th>Score</th>\n",
       "    </tr>\n",
       "  </thead>\n",
       "  <tbody>\n",
       "    <tr>\n",
       "      <th>101</th>\n",
       "      <td>AI_ELITE_4</td>\n",
       "      <td>uid_48</td>\n",
       "      <td>7</td>\n",
       "    </tr>\n",
       "    <tr>\n",
       "      <th>105</th>\n",
       "      <td>AI_ELITE_4</td>\n",
       "      <td>uid_44</td>\n",
       "      <td>7</td>\n",
       "    </tr>\n",
       "    <tr>\n",
       "      <th>139</th>\n",
       "      <td>AI_ELITE_4</td>\n",
       "      <td>uid_10</td>\n",
       "      <td>7</td>\n",
       "    </tr>\n",
       "  </tbody>\n",
       "</table>\n",
       "</div>"
      ],
      "text/plain": [
       "          Batch User_ID  Score\n",
       "101  AI_ELITE_4  uid_48      7\n",
       "105  AI_ELITE_4  uid_44      7\n",
       "139  AI_ELITE_4  uid_10      7"
      ]
     },
     "execution_count": 158,
     "metadata": {},
     "output_type": "execute_result"
    }
   ],
   "source": [
    "Elite_4[Elite_4.Score == 7]"
   ]
  },
  {
   "cell_type": "markdown",
   "id": "fd49c73b-b329-4a3c-8fa7-109f5d9659f3",
   "metadata": {},
   "source": [
    "### Visualization ###"
   ]
  },
  {
   "cell_type": "markdown",
   "id": "f5e31332-bf18-4e0a-90d1-8757e31b5fcb",
   "metadata": {},
   "source": [
    "##### Visualizing Scores count #####"
   ]
  },
  {
   "cell_type": "code",
   "execution_count": 180,
   "id": "382e89c9-fd48-4b1f-80db-2c7f1fb4f16e",
   "metadata": {
    "tags": []
   },
   "outputs": [
    {
     "data": {
      "text/plain": [
       "<AxesSubplot: >"
      ]
     },
     "execution_count": 180,
     "metadata": {},
     "output_type": "execute_result"
    },
    {
     "data": {
      "image/png": "[encoded data removed]",
      "text/plain": [
       "<Figure size 640x480 with 1 Axes>"
      ]
     },
     "metadata": {},
     "output_type": "display_data"
    }
   ],
   "source": [
    "Scores.plot(kind='bar')"
   ]
  },
  {
   "cell_type": "markdown",
   "id": "37b6a362-a29f-4d6a-a8ef-144cd1bd481e",
   "metadata": {},
   "source": [
    "##### Visualizing Batch #####"
   ]
  },
  {
   "cell_type": "code",
   "execution_count": 181,
   "id": "170dc8c3-e7af-4649-b757-6e7b2fd6b64c",
   "metadata": {
    "tags": []
   },
   "outputs": [
    {
     "data": {
      "text/plain": [
       "<AxesSubplot: >"
      ]
     },
     "execution_count": 181,
     "metadata": {},
     "output_type": "execute_result"
    },
    {
     "data": {
      "image/png": "[encoded data removed]",
      "text/plain": [
       "<Figure size 640x480 with 1 Axes>"
      ]
     },
     "metadata": {},
     "output_type": "display_data"
    }
   ],
   "source": [
    "Batch.plot(kind='bar')"
   ]
  },
  {
   "cell_type": "markdown",
   "id": "ee657045-c7b9-457e-876a-11b272ea3103",
   "metadata": {
    "tags": []
   },
   "source": [
    "##### Visualizing highest scores #####"
   ]
  },
  {
   "cell_type": "code",
   "execution_count": 178,
   "id": "e8533a28-8e13-4110-8d89-a5004b86fabc",
   "metadata": {
    "tags": []
   },
   "outputs": [
    {
     "data": {
      "text/plain": [
       "<AxesSubplot: >"
      ]
     },
     "execution_count": 178,
     "metadata": {},
     "output_type": "execute_result"
    },
    {
     "data": {
      "image/png": "[encoded data removed]",
      "text/plain": [
       "<Figure size 640x480 with 1 Axes>"
      ]
     },
     "metadata": {},
     "output_type": "display_data"
    }
   ],
   "source": [
    "Highest_Score.plot(kind='bar')"
   ]
  },
  {
   "cell_type": "markdown",
   "id": "99da75ae-25d9-415b-8ac5-580e7da2f4f8",
   "metadata": {},
   "source": [
    "##### Visualizing lowest scores #####"
   ]
  },
  {
   "cell_type": "code",
   "execution_count": 179,
   "id": "d4233dec-bcf3-4cf2-a080-b68b0fb1178e",
   "metadata": {
    "tags": []
   },
   "outputs": [
    {
     "data": {
      "text/plain": [
       "<AxesSubplot: >"
      ]
     },
     "execution_count": 179,
     "metadata": {},
     "output_type": "execute_result"
    },
    {
     "data": {
      "image/png": "[encoded data removed]",
      "text/plain": [
       "<Figure size 640x480 with 1 Axes>"
      ]
     },
     "metadata": {},
     "output_type": "display_data"
    }
   ],
   "source": [
    "Lowest_Score.plot(kind='bar')"
   ]
  },
  {
   "cell_type": "markdown",
   "id": "8a47d1ad-c78a-4612-81ab-5ed21e873d9d",
   "metadata": {},
   "source": [
    "##### Visualization of batch AI Elite 7 user scores #####"
   ]
  },
  {
   "cell_type": "code",
   "execution_count": 168,
   "id": "d8943e48-10b8-4108-b9ef-a3ae7f2820ca",
   "metadata": {
    "tags": []
   },
   "outputs": [
    {
     "data": {
      "text/plain": [
       "<AxesSubplot: ylabel='Frequency'>"
      ]
     },
     "execution_count": 168,
     "metadata": {},
     "output_type": "execute_result"
    },
    {
     "data": {
      "image/png": "[encoded data removed]",
      "text/plain": [
       "<Figure size 640x480 with 1 Axes>"
      ]
     },
     "metadata": {},
     "output_type": "display_data"
    }
   ],
   "source": [
    "Elite_7.plot(kind='hist')"
   ]
  },
  {
   "cell_type": "markdown",
   "id": "e1902cd3-8b84-443e-be4e-f2c5a24e7da4",
   "metadata": {},
   "source": [
    "##### Visualization of batch AI Elite 6 user scores #####"
   ]
  },
  {
   "cell_type": "code",
   "execution_count": 170,
   "id": "f2945d24-45c1-4f3c-86df-dfe4108a64e8",
   "metadata": {
    "tags": []
   },
   "outputs": [
    {
     "data": {
      "text/plain": [
       "<AxesSubplot: ylabel='Frequency'>"
      ]
     },
     "execution_count": 170,
     "metadata": {},
     "output_type": "execute_result"
    },
    {
     "data": {
      "image/png": "[encoded data removed]",
      "text/plain": [
       "<Figure size 640x480 with 1 Axes>"
      ]
     },
     "metadata": {},
     "output_type": "display_data"
    }
   ],
   "source": [
    "Elite_6.plot(kind='hist')"
   ]
  },
  {
   "cell_type": "markdown",
   "id": "64b5072a-b20f-411a-8ae0-aceb2dfa9d62",
   "metadata": {},
   "source": [
    "##### Visualization of batch AI Elite 4 user scores #####"
   ]
  },
  {
   "cell_type": "code",
   "execution_count": 171,
   "id": "d4d63783-0e73-4fc3-8b90-c6ad67f9dc55",
   "metadata": {
    "tags": []
   },
   "outputs": [
    {
     "data": {
      "text/plain": [
       "<AxesSubplot: ylabel='Frequency'>"
      ]
     },
     "execution_count": 171,
     "metadata": {},
     "output_type": "execute_result"
    },
    {
     "data": {
      "image/png": "[encoded data removed]",
      "text/plain": [
       "<Figure size 640x480 with 1 Axes>"
      ]
     },
     "metadata": {},
     "output_type": "display_data"
    }
   ],
   "source": [
    "Elite_4.plot(kind='hist')"
   ]
  },
  {
   "cell_type": "markdown",
   "id": "c2189c3d-7773-4d5b-979d-82beb18d1cad",
   "metadata": {},
   "source": [
    "### Summary ###"
   ]
  },
  {
   "cell_type": "markdown",
   "id": "515afa50-a73f-48f2-bd1f-8d0b5d5f3721",
   "metadata": {},
   "source": [
    "-Highest Score is 7/7<br>\n",
    "-Lowest Score is 0/7<br>\n",
    "-There are 36 users scored more than 6/7<br>\n",
    "-There are 17 users scored less than 2/7<br>\n",
    "-There are 18 users scored highest score 7/7<br>\n",
    "-There are 2 users scored lowest score 0/7<br>\n",
    "-In 3 batch of users AI Elite 7 users are performed well in the test"
   ]
  }
 ],
 "metadata": {
  "kernelspec": {
   "display_name": "Python 3 (ipykernel)",
   "language": "python",
   "name": "python3"
  },
  "language_info": {
   "codemirror_mode": {
    "name": "ipython",
    "version": 3
   },
   "file_extension": ".py",
   "mimetype": "text/x-python",
   "name": "python",
   "nbconvert_exporter": "python",
   "pygments_lexer": "ipython3",
   "version": "3.11.1"
  }
 },
 "nbformat": 4,
 "nbformat_minor": 5
}

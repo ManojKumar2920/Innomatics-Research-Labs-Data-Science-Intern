{
  "nbformat": 4,
  "nbformat_minor": 0,
  "metadata": {
    "colab": {
      "provenance": []
    },
    "kernelspec": {
      "name": "python3",
      "display_name": "Python 3"
    },
    "language_info": {
      "name": "python"
    }
  },
  "cells": [
    {
      "cell_type": "code",
      "execution_count": 3,
      "metadata": {
        "colab": {
          "base_uri": "https://localhost:8080/"
        },
        "id": "H9EPOUh4GPfk",
        "outputId": "e4e66780-e282-4bb1-83cf-a2de459c2626"
      },
      "outputs": [
        {
          "output_type": "stream",
          "name": "stdout",
          "text": [
            "2\n",
            "2\n",
            "2\n",
            "2\n",
            "[[0, 0, 0], [0, 0, 1], [0, 1, 0], [0, 1, 2], [0, 2, 1], [0, 2, 2], [1, 0, 0], [1, 0, 2], [1, 1, 1], [1, 1, 2], [1, 2, 0], [1, 2, 1], [1, 2, 2], [2, 0, 1], [2, 0, 2], [2, 1, 0], [2, 1, 1], [2, 1, 2], [2, 2, 0], [2, 2, 1], [2, 2, 2]]\n"
          ]
        }
      ],
      "source": [
        "#1.List Comprehensions\n",
        "if __name__ == '__main__':\n",
        "    x = int(input())\n",
        "    y = int(input())\n",
        "    z = int(input())\n",
        "    n = int(input())\n",
        "    output = []\n",
        "    abc = []\n",
        "    for X in range(x+1):\n",
        "        for Y in range(y+1):\n",
        "            for Z in range(z+1):\n",
        "                if X+Y+Z != n:\n",
        "                    abc = [X,Y,Z]\n",
        "                    output.append(abc)\n",
        "print(output)\n",
        "    "
      ]
    },
    {
      "cell_type": "code",
      "source": [
        "#2.Find the Runner-Up Score!\n",
        "if __name__ == '__main__':\n",
        "    n = int(input())\n",
        "    arr = map(int, input().split())\n",
        "    ar=list(arr)\n",
        "    ar=list(set(ar))\n",
        "    m=max(ar)\n",
        "    ar.remove(m)\n",
        "    l=[]\n",
        "    for i in range(len(ar)):\n",
        "        l.append(m-ar[i])\n",
        "    least_dif=min(l)\n",
        "    for i in range(len(l)):\n",
        "        if(l[i]==least_dif):\n",
        "            print(ar[i])"
      ],
      "metadata": {
        "colab": {
          "base_uri": "https://localhost:8080/"
        },
        "id": "iw_I3L9uGn65",
        "outputId": "6f95c918-c001-4fab-fbd5-d893d0f6c151"
      },
      "execution_count": 5,
      "outputs": [
        {
          "output_type": "stream",
          "name": "stdout",
          "text": [
            "5\n",
            "2 3 6 6 5\n",
            "5\n"
          ]
        }
      ]
    },
    {
      "cell_type": "code",
      "source": [
        "#3.Nested Lists\n",
        "Result =[]\n",
        "scorelist = []\n",
        "\n",
        "if __name__ == '__main__':\n",
        "    for _ in range(int(input())):\n",
        "        name = input()\n",
        "        score = float(input())\n",
        "        Result+=[[name,score]]\n",
        "        scorelist+=[score]\n",
        "    b=sorted(list(set(scorelist)))[1] \n",
        "\n",
        "    for a,c in sorted(Result):\n",
        "        if c==b:\n",
        "            print(a)"
      ],
      "metadata": {
        "colab": {
          "base_uri": "https://localhost:8080/"
        },
        "id": "VZbztg_nHlpb",
        "outputId": "84a97734-9fb6-433a-95c3-b19dd44079ff"
      },
      "execution_count": 6,
      "outputs": [
        {
          "output_type": "stream",
          "name": "stdout",
          "text": [
            "5\n",
            "Harry\n",
            "37.21\n",
            "Berry\n",
            "37.21\n",
            "Tina\n",
            "37.2\n",
            "Akiriti\n",
            "41\n",
            "Harsh\n",
            "39\n",
            "Berry\n",
            "Harry\n"
          ]
        }
      ]
    },
    {
      "cell_type": "code",
      "source": [
        "#4.Finding the percentage\n",
        "if __name__ == '__main__':\n",
        "    n = int(input())\n",
        "    student_marks = {}\n",
        "    for _ in range(n):\n",
        "        name, *line = input().split()\n",
        "        scores = list(map(float, line))\n",
        "        student_marks[name] = scores\n",
        "    query_name = input()\n",
        "    output = list(student_marks[query_name])    \n",
        "    per = sum(output)/len(output)\n",
        "    print(\"%.2f\" % per)  \n"
      ],
      "metadata": {
        "colab": {
          "base_uri": "https://localhost:8080/"
        },
        "id": "17VPeQC-IDI2",
        "outputId": "dab26473-4a68-4247-d83e-5448e8750a79"
      },
      "execution_count": 7,
      "outputs": [
        {
          "output_type": "stream",
          "name": "stdout",
          "text": [
            "3\n",
            "Krishna 25 26.5 28\n",
            "Arjun 70 98 63\n",
            "Malika 52 56 60\n",
            "Malika\n",
            "56.00\n"
          ]
        }
      ]
    },
    {
      "cell_type": "code",
      "source": [
        "#5.Lists\n",
        "if __name__ == '__main__':\n",
        "    N = int(input())\n",
        "    L=[]\n",
        "    for i in range(0,N):\n",
        "        cmd=input().split()\n",
        "        if cmd[0] == \"insert\":\n",
        "            L.insert(int(cmd[1]),int(cmd[2]))\n",
        "        elif cmd[0] == \"append\":\n",
        "            L.append(int(cmd[1]))\n",
        "        elif cmd[0] == \"pop\":\n",
        "            L.pop()\n",
        "        elif cmd[0] == \"print\":\n",
        "            print(L)\n",
        "        elif cmd[0] == \"remove\":\n",
        "            L.remove(int(cmd[1]))\n",
        "        elif cmd[0] == \"sort\":\n",
        "            L.sort()\n",
        "        else:\n",
        "            L.reverse()"
      ],
      "metadata": {
        "id": "7prxOAbLJa8z"
      },
      "execution_count": null,
      "outputs": []
    },
    {
      "cell_type": "code",
      "source": [
        "#6.Tuples\n",
        "# Enter your code here. Read input from STDIN. Print output to STDOUT\n",
        "if __name__ == '__main__':\n",
        "    n = int(input())\n",
        "    integer_list = map(int, input().split())\n",
        "    tup = ()\n",
        "    for x in integer_list:\n",
        "        tup+=(x,)\n",
        "    \n",
        "    print(hash(tup))"
      ],
      "metadata": {
        "colab": {
          "base_uri": "https://localhost:8080/"
        },
        "id": "zwi3TTlyJqLF",
        "outputId": "349f3211-2017-438e-8a45-2b5dc47f67a4"
      },
      "execution_count": 1,
      "outputs": [
        {
          "output_type": "stream",
          "name": "stdout",
          "text": [
            "2\n",
            "1 2\n",
            "-3550055125485641917\n"
          ]
        }
      ]
    },
    {
      "cell_type": "code",
      "source": [
        "#7.Introduction to sets\n",
        "def average(array):\n",
        "    # your code goes here\n",
        "    sum_array = sum(set(array))\n",
        "    len_array = len(set(array))\n",
        "    output = sum_array/len_array\n",
        "    return output;\n",
        "\n",
        "\n",
        "if __name__ == '__main__':\n",
        "    n = int(input())\n",
        "    arr = list(map(int, input().split()))\n",
        "    result = average(arr)\n",
        "    print(result)"
      ],
      "metadata": {
        "id": "XJiqsA0xKDoI"
      },
      "execution_count": null,
      "outputs": []
    },
    {
      "cell_type": "code",
      "source": [
        "#8.No idea!\n",
        "\n",
        "# Enter your code here. Read input from STDIN. Print output to STDOUT\n",
        "\n",
        "n, m = input().split()\n",
        "\n",
        "sc_ar = input().split()\n",
        "\n",
        "A = set(input().split())\n",
        "B = set(input().split())\n",
        "print(sum([(i in A) - (i in B) for i in sc_ar]))\n"
      ],
      "metadata": {
        "colab": {
          "base_uri": "https://localhost:8080/"
        },
        "id": "Xk1EbSDvKJb4",
        "outputId": "aa343026-c564-42fa-9f21-343dc75b3f5f"
      },
      "execution_count": 2,
      "outputs": [
        {
          "output_type": "stream",
          "name": "stdout",
          "text": [
            "3 2\n",
            "1 5 3\n",
            "3 1\n",
            "5 7\n",
            "1\n"
          ]
        }
      ]
    },
    {
      "cell_type": "code",
      "source": [
        "#9.Set. add()\n",
        "\n",
        "# Enter your code here. Read input from STDIN. Print output to STDOUT\n",
        "\n",
        "n = int(input())\n",
        "names = set([])\n",
        "for i in range(n):\n",
        "    names.add(input())\n",
        "print(len(names))"
      ],
      "metadata": {
        "id": "xCZI4Av-K6GI"
      },
      "execution_count": null,
      "outputs": []
    },
    {
      "cell_type": "code",
      "source": [
        "#10.Set .discard(), .remove() & .pop()\n",
        "\n",
        "n = int(input())\n",
        "s = set(map(int, input().split())) # Set of n elements\n",
        "for i in range(int(input())): # Iterate in range of the input num\n",
        "    s1 = input().split()\n",
        "    if s1[0] == 'pop':\n",
        "        s.pop()\n",
        "    elif s1[0] == 'remove':\n",
        "        s.remove(int(s1[1]))\n",
        "    elif s1[0] == 'discard':\n",
        "        s.discard(int(s1[1]))\n",
        "print(sum(s))\n"
      ],
      "metadata": {
        "id": "RXVi8h0jMC-n"
      },
      "execution_count": null,
      "outputs": []
    },
    {
      "cell_type": "code",
      "source": [
        "#11.Set. union()\n",
        "\n",
        "a= int(input())\n",
        "set_a = set(map(int, input().split()))\n",
        "\n",
        "b = int(input())\n",
        "set_b = set(map(int, input().split()))\n",
        "\n",
        "new_set = set_a.union(set_b)\n",
        "print(len(new_set))"
      ],
      "metadata": {
        "colab": {
          "base_uri": "https://localhost:8080/"
        },
        "id": "ZMIlDIp4MpXb",
        "outputId": "2c35120c-3cb5-4165-cf10-2057320af48d"
      },
      "execution_count": 4,
      "outputs": [
        {
          "output_type": "stream",
          "name": "stdout",
          "text": [
            "9\n",
            "1 2 3 4 5 6 7 8 9\n",
            "9\n",
            "10 1 2 3 11 21 55 6 8\n",
            "13\n"
          ]
        }
      ]
    },
    {
      "cell_type": "code",
      "source": [
        "#12.Set. intersection()\n",
        "\n",
        "# Enter your code here. Read input from STDIN. Print output to STDIN\n",
        "\n",
        "a= int(input())\n",
        "set_a = set(map(int, input().split()))\n",
        "\n",
        "b = int(input())\n",
        "set_b = set(map(int, input().split()))\n",
        "\n",
        "new_set = set_a.intersection(set_b)\n",
        "print(len(new_set))"
      ],
      "metadata": {
        "id": "BwmnCaunP-nQ"
      },
      "execution_count": null,
      "outputs": []
    },
    {
      "cell_type": "code",
      "source": [
        "#13.Set. difference()\n",
        "\n",
        "# Enter your code here. Read input from STDIN. Print output to STDOUT\n",
        "\n",
        "a= int(input())\n",
        "set_a = set(map(int, input().split()))\n",
        "\n",
        "b = int(input())\n",
        "set_b = set(map(int, input().split()))\n",
        "\n",
        "new_set = set_a.difference(set_b)\n",
        "print(len(new_set))"
      ],
      "metadata": {
        "id": "RPWCQhT_PfLb"
      },
      "execution_count": null,
      "outputs": []
    },
    {
      "cell_type": "code",
      "source": [
        "#14.Set. Symmetricdifference()\n",
        "\n",
        "# Enter your code here. Read input from STDIN. Print output to STDOUT\n",
        "\n",
        "a= int(input())\n",
        "set_a = set(map(int, input().split()))\n",
        "\n",
        "b = int(input())\n",
        "set_b = set(map(int, input().split()))\n",
        "\n",
        "new_set = set_a.symmetric_difference(set_b)\n",
        "print(len(new_set))"
      ],
      "metadata": {
        "id": "6NGLKcifPEcj"
      },
      "execution_count": null,
      "outputs": []
    },
    {
      "cell_type": "code",
      "source": [
        "#15.Set mutations\n",
        "\n",
        "# Enter your code here. Read input from STDIN. Print output to STDOUT\n",
        "\n",
        "a = int(input())\n",
        "set_a = set(map(int, input().split()))\n",
        "n = int(input())\n",
        "for _ in range(n):\n",
        "    operation = input().split()\n",
        "    new_set = set(map(int, input().split()))\n",
        "    eval('set_a.{}({})'.format(operation[0], new_set))\n",
        "print(sum(set_a))"
      ],
      "metadata": {
        "id": "Nr9ZVsOBVPEg"
      },
      "execution_count": null,
      "outputs": []
    },
    {
      "cell_type": "code",
      "source": [
        "#16.The Captain's Room\n",
        "\n",
        "# Enter your code here. Read input from STDIN. Print output to STDOUT\n",
        "\n",
        "n = input()\n",
        "room_list = input().split()\n",
        "room_set = set(room_list)\n",
        "for ele in list(room_set):\n",
        "    room_list.remove(ele)\n",
        "captain_room_num = room_set.difference(set(room_list)).pop()\n",
        "print(captain_room_num)"
      ],
      "metadata": {
        "colab": {
          "base_uri": "https://localhost:8080/"
        },
        "id": "l5vEmeGPVSEc",
        "outputId": "c6ee1ab3-951a-4fea-8ce9-cc43c0b7d637"
      },
      "execution_count": 5,
      "outputs": [
        {
          "output_type": "stream",
          "name": "stdout",
          "text": [
            "5\n",
            "1 2 3 6 5 4 4 2 5 3 6 1 6 5 3 2 4 1 2 5 1 4 3 6 8 4 3 1 5 6 2\n",
            "8\n"
          ]
        }
      ]
    },
    {
      "cell_type": "code",
      "source": [
        "#17.Check subset\n",
        "\n",
        "# Enter your code here. Read input from STDIN. Print output to STDOUT\n",
        "for i in range(int(input())):\n",
        "    a = int(input())\n",
        "    set_a = set(map(int, input().split()))\n",
        "\n",
        "    b = int(input())\n",
        "    set_b = set(map(int, input().split()))\n",
        "\n",
        "    if len(set_a - set_b) == 0:\n",
        "        print(\"True\")\n",
        "    else:\n",
        "        print(\"False\")"
      ],
      "metadata": {
        "id": "5OGAIFZUWLiP"
      },
      "execution_count": null,
      "outputs": []
    },
    {
      "cell_type": "code",
      "source": [
        "#18.Check strict superset\n",
        "\n",
        "a = set(input().split())\n",
        "count = 0\n",
        "value = 0\n",
        "for i in range(int(input())):\n",
        "    if a.issuperset(set(input().split())):\n",
        "        count += 1\n",
        "    else:\n",
        "        value += 1\n",
        "if value != 0:\n",
        "    print('False')\n",
        "else:\n",
        "    print('True')"
      ],
      "metadata": {
        "id": "SBYKlMc5Wnpj"
      },
      "execution_count": null,
      "outputs": []
    },
    {
      "cell_type": "code",
      "source": [
        "#symmetric difference\n",
        "\n",
        "# Enter your code here. Read input from STDIN. Print output to STDOUT\n",
        "\n",
        "if __name__ == \"__main__\":\n",
        "    M = int(input().strip())\n",
        "    set_m = set(map(int, input().strip().split(' ')))\n",
        "    \n",
        "    N = int(input().strip())\n",
        "    set_n = set(map(int, input().strip().split(' ')))\n",
        "    \n",
        "    for j in sorted(set_m ^ set_n):\n",
        "        print(j)\n"
      ],
      "metadata": {
        "id": "Q3HHSEVSYw9-"
      },
      "execution_count": null,
      "outputs": []
    }
  ]
}